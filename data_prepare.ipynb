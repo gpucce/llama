{
 "cells": [
  {
   "cell_type": "code",
   "execution_count": 2,
   "metadata": {},
   "outputs": [],
   "source": [
    "import pandas as pd\n",
    "import regex as re"
   ]
  },
  {
   "cell_type": "code",
   "execution_count": 58,
   "metadata": {},
   "outputs": [],
   "source": [
    "df = pd.read_csv(\"./llama/human_eval/svolgimenti/svolgimenti_backup/Svolgimenti_tutti_7b_fts_7b_ps.csv\")\n",
    "df = df.loc[df.Stato == \"Completato\", :]"
   ]
  },
  {
   "cell_type": "code",
   "execution_count": 63,
   "metadata": {},
   "outputs": [],
   "source": [
    "old_dfs = [pd.read_csv(f\"./llama/human_eval/svolgimenti/7b_fts_df1/Svolgimenti_{i}.csv\") for i in range(5)]\n",
    "dfs = []\n",
    "for i in range(5):\n",
    "    dfs.append(df.loc[df.Questionario == f\"human_eval_df1_{i}\", :])\n"
   ]
  },
  {
   "cell_type": "code",
   "execution_count": 71,
   "metadata": {},
   "outputs": [
    {
     "name": "stderr",
     "output_type": "stream",
     "text": [
      "/tmp/ipykernel_3703771/1738800920.py:2: SettingWithCopyWarning: \n",
      "A value is trying to be set on a copy of a slice from a DataFrame.\n",
      "Try using .loc[row_indexer,col_indexer] = value instead\n",
      "\n",
      "See the caveats in the documentation: https://pandas.pydata.org/pandas-docs/stable/user_guide/indexing.html#returning-a-view-versus-a-copy\n",
      "  i.loc[:, \"Questionario\"] = i.Questionario.apply(lambda x: re.sub(r\"human_eval_df1_\\d\", f\"human_eval_7b_fts_df1_{idx}\", x))\n"
     ]
    }
   ],
   "source": [
    "for idx, i in enumerate(dfs):\n",
    "    i.loc[:, \"Questionario\"] = i.Questionario.apply(lambda x: re.sub(r\"human_eval_df1_\\d\", f\"human_eval_7b_fts_df1_{idx}\", x))\n",
    "    i.to_csv(f\"./llama/human_eval/svolgimenti/7b_fts_df1/Svolgimenti_{idx}.csv\")"
   ]
  },
  {
   "cell_type": "code",
   "execution_count": 69,
   "metadata": {},
   "outputs": [
    {
     "data": {
      "text/plain": [
       "49    human_eval_df1_4\n",
       "50    human_eval_df1_4\n",
       "51    human_eval_df1_4\n",
       "52    human_eval_df1_4\n",
       "53    human_eval_df1_4\n",
       "54    human_eval_df1_4\n",
       "55    human_eval_df1_4\n",
       "Name: Questionario, dtype: object"
      ]
     },
     "execution_count": 69,
     "metadata": {},
     "output_type": "execute_result"
    }
   ],
   "source": [
    "i.Questionario"
   ]
  }
 ],
 "metadata": {
  "kernelspec": {
   "display_name": "evalita",
   "language": "python",
   "name": "python3"
  },
  "language_info": {
   "codemirror_mode": {
    "name": "ipython",
    "version": 3
   },
   "file_extension": ".py",
   "mimetype": "text/x-python",
   "name": "python",
   "nbconvert_exporter": "python",
   "pygments_lexer": "ipython3",
   "version": "3.8.16"
  },
  "orig_nbformat": 4
 },
 "nbformat": 4,
 "nbformat_minor": 2
}
