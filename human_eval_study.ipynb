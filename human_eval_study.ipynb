{
 "cells": [
  {
   "cell_type": "code",
   "execution_count": 1,
   "metadata": {},
   "outputs": [],
   "source": [
    "import matplotlib.pyplot as plt\n",
    "import pandas as pd\n",
    "import numpy as np\n",
    "from scipy.stats import pearsonr\n",
    "from sklearn.metrics import accuracy_score, cohen_kappa_score\n",
    "from IPython.display import HTML, display\n",
    "import itertools\n",
    "import seaborn as sns\n",
    "import math"
   ]
  },
  {
   "cell_type": "code",
   "execution_count": null,
   "metadata": {},
   "outputs": [],
   "source": []
  },
  {
   "cell_type": "code",
   "execution_count": 2,
   "metadata": {},
   "outputs": [],
   "source": [
    "df = []\n",
    "for i in range(5):\n",
    "    _df = pd.read_csv(f\"./llama/human_eval/svolgimenti/65b_ps_df1/Svolgimenti_{i}.csv\")\n",
    "    _df[\"Questionario\"] = f\"human_eval_65b_ps_df1_{i}\"\n",
    "    df.append(_df)\n",
    "df = pd.concat(df, axis=0)"
   ]
  },
  {
   "cell_type": "code",
   "execution_count": 3,
   "metadata": {},
   "outputs": [
    {
     "name": "stderr",
     "output_type": "stream",
     "text": [
      "/tmp/ipykernel_2736834/814033450.py:11: FutureWarning: In a future version, `df.iloc[:, i] = newvals` will attempt to set the values inplace instead of always setting a new array. To retain the old behavior, use either `df[df.columns[i]] = newvals` or, if columns are non-unique, `df.isetitem(i, newvals)`\n",
      "  full_df.loc[:, q_cols] = full_df.loc[:, q_cols].applymap(\n"
     ]
    }
   ],
   "source": [
    "_full_df = pd.read_csv(\"./llama/human_eval/svolgimenti/Svolgimenti_tutti.csv\", index_col=0)\n",
    "\n",
    "# remove extra quest\n",
    "full_df = _full_df.loc[_full_df.Questionario != \"human_eval_df1_5\", :]\n",
    "\n",
    "# sort data by questionary\n",
    "full_df = full_df.sort_values(by=\"Questionario\")\n",
    "\n",
    "# answers to float\n",
    "q_cols = [f\"Domanda {i}\" for i in range(1, 21)]\n",
    "full_df.loc[:, q_cols] = full_df.loc[:, q_cols].applymap(\n",
    "    lambda x: float(x.replace(\"Risposta \", \"\")) if type(x) == str else x\n",
    ")\n",
    "\n",
    "# indent signle missing value in human_eval_7b_ps_df1_3\n",
    "quest_name = \"human_eval_7b_ps_df1_3\"\n",
    "mean_val = full_df.set_index(\"Questionario\").loc[quest_name, \"Domanda 19\"].mean()\n",
    "mask = full_df.Questionario == quest_name\n",
    "full_df.loc[mask, \"Domanda 19\"] = full_df.loc[mask, \"Domanda 19\"].fillna(mean_val)\n",
    "\n",
    "full_df = full_df.reset_index(drop=True)\n",
    "full_df = full_df.loc[full_df.Stato == \"Completato\", :]\n",
    "full_df = full_df.loc[full_df.filter(regex=\"Domanda*\").notna().all(axis=1), :]\n",
    "full_df = full_df.loc[full_df.loc[:, \"Domanda 7\"] > 3, :]"
   ]
  },
  {
   "cell_type": "code",
   "execution_count": 4,
   "metadata": {},
   "outputs": [],
   "source": [
    "mask_7b_pretrain = full_df.Questionario.str.contains(\"7b_ps\")\n",
    "mask_65b_pretrain = full_df.Questionario.str.contains(\"65b_ps\")\n",
    "mask_65b_finetune = full_df.Questionario.str.contains(\"65b_fts\")\n",
    "mask_7b_finetune = ~(mask_7b_pretrain | mask_65b_finetune | mask_65b_pretrain)\n",
    "\n",
    "df_7b_pretrain = full_df.loc[mask_7b_pretrain, :].copy()\n",
    "df_7b_pretrain.loc[:, \"Questionario\"] = (\n",
    "    \"./llama/human_eval/data/llama_7b_pretrained_shorter/\" +\n",
    "    df_7b_pretrain.loc[:, \"Questionario\"].str.replace(\"7b_ps_\", \"\") +\n",
    "    \".csv\"\n",
    ")\n",
    "\n",
    "df_7b_finetune = full_df.loc[mask_7b_finetune, :].copy()\n",
    "df_7b_finetune.loc[:, \"Questionario\"] = (\n",
    "    \"./llama/human_eval/data/llama_7b_fine_tuned_shorter/\" +\n",
    "    df_7b_finetune.loc[:, \"Questionario\"].str.replace(\"7b_ps_\", \"\") +\n",
    "    \".csv\"\n",
    ")\n",
    "\n",
    "df_65b_pretrain = full_df.loc[mask_65b_pretrain, :].copy()\n",
    "df_65b_pretrain.loc[:, \"Questionario\"] = (\n",
    "    \"./llama/human_eval/data/llama_65b_pretrained_shorter/\" +\n",
    "    df_65b_pretrain.loc[:, \"Questionario\"].str.replace(\"65b_ps_\", \"\") +\n",
    "    \".csv\"\n",
    ")\n",
    "\n",
    "df_65b_finetune = full_df.loc[mask_65b_finetune, :].copy()\n",
    "df_65b_finetune.loc[:, \"Questionario\"] = (\n",
    "    \"./llama/human_eval/data/llama_65b_fine_tuned_shorter/\" +\n",
    "    df_65b_finetune.loc[:, \"Questionario\"].str.replace(\"65b_fts_\", \"\") +\n",
    "    \".csv\"\n",
    ")"
   ]
  },
  {
   "cell_type": "code",
   "execution_count": 5,
   "metadata": {},
   "outputs": [],
   "source": [
    "def normalize(x):\n",
    "    return (x - x.mean()) / x.std()\n",
    "\n",
    "def preprocess_df(df):\n",
    "    background_dfs = [pd.read_csv(i, index_col=0) for i in df.Questionario.unique()]\n",
    "    no_control_questions = []\n",
    "    new_bkg_dfs = []\n",
    "    for idx, background_df in enumerate(background_dfs):\n",
    "        background_df.index = [f\"Domanda {idx * 20 + i}\" for i in range(1, 21)]\n",
    "        no_control_questions.append([f\"Domanda {idx * 20 + i}\" for i in range(1, 21) if i != 7])\n",
    "        background_df = background_df.loc[no_control_questions[idx], :]\n",
    "        new_bkg_dfs.append(background_df)\n",
    "    background_df = pd.concat(new_bkg_dfs, axis=0)\n",
    "\n",
    "    _new_dfs = []\n",
    "    _dfs = df.groupby(\"Questionario\")\n",
    "    _qs = []\n",
    "    for idx, (q_name, _df) in enumerate(_dfs):\n",
    "        _df = _df.filter(regex=\"Domanda*\")\n",
    "        _df = _df.rename({f\"Domanda {i}\": f\"Domanda {idx * 20 + i}\" for i in range(1, 21)}, axis=1)\n",
    "        _df = _df.loc[:, no_control_questions[idx]]\n",
    "        _df = _df.T\n",
    "        _new_dfs.append(_df)\n",
    "        for i in range(_df.shape[0]):\n",
    "            _qs.append(q_name)\n",
    "    _df = pd.concat(_new_dfs, axis=0)\n",
    "    _df = pd.DataFrame([i[~np.isnan(i)][:5] for i in _df.values])\n",
    "    _df.loc[:, \"Questionario\"] = _qs\n",
    "    return _df, background_df\n",
    "\n",
    "def get_metrics_df(_df, background_df):\n",
    "    _metrics_df = pd.DataFrame()\n",
    "    for col_idx, col in enumerate(_df.columns):\n",
    "        if col == \"Questionario\":\n",
    "            continue\n",
    "        if _df.loc[:, col].notna().all():\n",
    "            _metrics_df.loc[:, f\"player {col_idx}\"] = _df.loc[:, col].reset_index(drop=True)\n",
    "    _metrics_df.loc[:, \"avg_pred\"] = _df.mean(axis=1, numeric_only=True).reset_index(drop=True)\n",
    "    _metrics_df.loc[:, \"bool_pred\"] = _metrics_df[\"avg_pred\"] <= 3\n",
    "    _metrics_df.loc[:, \"bool_scaled_pred\"] = _metrics_df[\"avg_pred\"] <= _metrics_df[\"avg_pred\"].mean()\n",
    "    _metrics_df.loc[:, \"high_pred\"] = _df.max(axis=1, numeric_only=True).reset_index(drop=True)\n",
    "    _metrics_df.loc[:, \"bool_high_pred\"] = _metrics_df.high_pred <= 3\n",
    "    _metrics_df.loc[:, \"low_pred\"] = _df.min(axis=1, numeric_only=True).reset_index(drop=True)\n",
    "    _metrics_df.loc[:, \"bool_low_pred\"] = _metrics_df.low_pred <= 3\n",
    "    _metrics_df.loc[:, \"bool_is_human\"] = background_df.is_human.reset_index(drop=True)\n",
    "    _metrics_df.loc[:, \"is_human\"] = _metrics_df[\"bool_is_human\"].apply(int)\n",
    "    _metrics_df.loc[:, \"missed\"] = _metrics_df[\"bool_scaled_pred\"] != _metrics_df[\"is_human\"]\n",
    "    _metrics_df.loc[:, \"catched\"] = _metrics_df[\"bool_scaled_pred\"] == _metrics_df[\"is_human\"]\n",
    "    _metrics_df.loc[:, \"Questionario\"] = _df.loc[:, \"Questionario\"].values\n",
    "    return _metrics_df\n",
    "\n",
    "def compute_acc(metrics_df):\n",
    "    return (\n",
    "       np.round(accuracy_score(metrics_df[\"bool_is_human\"], metrics_df[\"bool_scaled_pred\"]), 3) * 100,\n",
    "       np.round(accuracy_score(metrics_df[\"bool_is_human\"], metrics_df[\"bool_pred\"]), 3) * 100,\n",
    "    #    np.round(accuracy_score(metrics_df[\"bool_is_human\"], metrics_df[\"bool_high_pred\"]), 3) * 100,\n",
    "    #    np.round(accuracy_score(metrics_df[\"bool_is_human\"], metrics_df[\"bool_low_pred\"]), 3) * 100,\n",
    "    )\n",
    "\n",
    "def compute_all_acc(metrics_df):\n",
    "    n_players = metrics_df.filter(regex=\"player*\").shape[1]\n",
    "    all_cohens = []\n",
    "    quest_scores = {}\n",
    "    quest_scores[\"accuracy\"] = {}\n",
    "    scaled_mean, mean = compute_acc(metrics_df)\n",
    "    quest_scores[\"accuracy\"][\"scaled mean\"] = scaled_mean\n",
    "    quest_scores[\"accuracy\"][\"mean\"] = mean\n",
    "    players_scores = {}\n",
    "    all_metrics_df = metrics_df.groupby(\"Questionario\")\n",
    "    for idx, (_, metrics_df) in enumerate(all_metrics_df):\n",
    "        players_scores[f\"Chunk {idx}\"] = {}\n",
    "        quest_scores[f\"Chunk {idx}\"] = {}\n",
    "        quest_x = []\n",
    "        for i in range(n_players):\n",
    "            acc = np.round(\n",
    "                accuracy_score(\n",
    "                    metrics_df.loc[:, f\"bool_is_human\"],\n",
    "                    metrics_df.loc[:, f\"player {i}\"] <= 3.0\n",
    "                ),\n",
    "                3\n",
    "            ) * 100\n",
    "            quest_x.append(acc)\n",
    "            players_scores[f\"Chunk {idx}\"][i] = {\"accuracy\": acc}\n",
    "        all_data = np.zeros((n_players, n_players))\n",
    "        for i, j in itertools.combinations(range(n_players), r=2):\n",
    "            all_data[i,j] = cohen_kappa_score(\n",
    "                metrics_df.loc[:, f\"player {i}\"] <= 3.0,\n",
    "                metrics_df.loc[:, f\"player {j}\"] <= 3.0\n",
    "            )\n",
    "        all_cohens.append(all_data)\n",
    "        scaled_mean, mean = compute_acc(metrics_df)\n",
    "        quest_scores[f\"Chunk {idx}\"][\"scaled mean\"] = scaled_mean\n",
    "        quest_scores[f\"Chunk {idx}\"][\"mean\"] = mean\n",
    "    return quest_scores, players_scores, all_cohens"
   ]
  },
  {
   "cell_type": "code",
   "execution_count": 6,
   "metadata": {},
   "outputs": [],
   "source": [
    "processed_pretrain_7b_df, background_pretrain_7b_df = preprocess_df(df_7b_pretrain)\n",
    "pretrain_metrics_7b_df = get_metrics_df(processed_pretrain_7b_df, background_pretrain_7b_df)\n",
    "\n",
    "processed_finetune_7b_df, background_finetune_7b_df = preprocess_df(df_7b_finetune)\n",
    "finetune_metrics_7b_df = get_metrics_df(processed_finetune_7b_df, background_finetune_7b_df)\n",
    "\n",
    "processed_pretrain_65b_df, background_pretrain_65b_df = preprocess_df(df_65b_pretrain)\n",
    "pretrain_metrics_65b_df = get_metrics_df(processed_pretrain_65b_df, background_pretrain_65b_df)\n",
    "\n",
    "processed_finetune_65b_df, background_finetune_65b_df = preprocess_df(df_65b_finetune)\n",
    "finetune_metrics_65b_df = get_metrics_df(processed_finetune_65b_df, background_finetune_65b_df)"
   ]
  },
  {
   "cell_type": "code",
   "execution_count": 7,
   "metadata": {},
   "outputs": [
    {
     "name": "stdout",
     "output_type": "stream",
     "text": [
      "Chunk 0 {0: {'accuracy': 63.2}, 1: {'accuracy': 52.6}, 2: {'accuracy': 84.2}, 3: {'accuracy': 78.9}}\n",
      "Chunk 1 {0: {'accuracy': 73.7}, 1: {'accuracy': 63.2}, 2: {'accuracy': 89.5}, 3: {'accuracy': 52.6}}\n",
      "Chunk 2 {0: {'accuracy': 78.9}, 1: {'accuracy': 73.7}, 2: {'accuracy': 57.9}, 3: {'accuracy': 42.1}}\n",
      "Chunk 3 {0: {'accuracy': 84.2}, 1: {'accuracy': 63.2}, 2: {'accuracy': 63.2}, 3: {'accuracy': 68.4}}\n",
      "Chunk 4 {0: {'accuracy': 84.2}, 1: {'accuracy': 78.9}, 2: {'accuracy': 84.2}, 3: {'accuracy': 78.9}}\n"
     ]
    },
    {
     "data": {
      "image/png": "[encoded data removed]",
      "text/plain": [
       "<Figure size 1440x216 with 8 Axes>"
      ]
     },
     "metadata": {
      "needs_background": "light"
     },
     "output_type": "display_data"
    }
   ],
   "source": [
    "pretrain_7b_quest_scores, pretrain_7b_players_scores, pretrain_7b_all_cohens = compute_all_acc(pretrain_metrics_7b_df)\n",
    "for key, val in pretrain_7b_players_scores.items():\n",
    "    print(key, val)\n",
    "fig, ax = plt.subplots(1, 4, figsize=(20, 3))\n",
    "for i in range(4):\n",
    "    sns.heatmap(\n",
    "        pretrain_7b_all_cohens[i],\n",
    "        annot=True,\n",
    "        ax=ax[i]\n",
    "    )"
   ]
  },
  {
   "cell_type": "code",
   "execution_count": 8,
   "metadata": {},
   "outputs": [
    {
     "data": {
      "text/html": [
       "<div>\n",
       "<style scoped>\n",
       "    .dataframe tbody tr th:only-of-type {\n",
       "        vertical-align: middle;\n",
       "    }\n",
       "\n",
       "    .dataframe tbody tr th {\n",
       "        vertical-align: top;\n",
       "    }\n",
       "\n",
       "    .dataframe thead th {\n",
       "        text-align: right;\n",
       "    }\n",
       "</style>\n",
       "<table border=\"1\" class=\"dataframe\">\n",
       "  <thead>\n",
       "    <tr style=\"text-align: right;\">\n",
       "      <th></th>\n",
       "      <th></th>\n",
       "      <th>accuracy</th>\n",
       "      <th>Chunk 0</th>\n",
       "      <th>Chunk 1</th>\n",
       "      <th>Chunk 2</th>\n",
       "      <th>Chunk 3</th>\n",
       "      <th>Chunk 4</th>\n",
       "    </tr>\n",
       "    <tr>\n",
       "      <th>model</th>\n",
       "      <th>metric</th>\n",
       "      <th></th>\n",
       "      <th></th>\n",
       "      <th></th>\n",
       "      <th></th>\n",
       "      <th></th>\n",
       "      <th></th>\n",
       "    </tr>\n",
       "  </thead>\n",
       "  <tbody>\n",
       "    <tr>\n",
       "      <th rowspan=\"2\" valign=\"top\">pretrain 7b</th>\n",
       "      <th>scaled mean</th>\n",
       "      <td>82.1</td>\n",
       "      <td>78.9</td>\n",
       "      <td>84.2</td>\n",
       "      <td>73.7</td>\n",
       "      <td>78.9</td>\n",
       "      <td>94.7</td>\n",
       "    </tr>\n",
       "    <tr>\n",
       "      <th>mean</th>\n",
       "      <td>82.1</td>\n",
       "      <td>73.7</td>\n",
       "      <td>78.9</td>\n",
       "      <td>78.9</td>\n",
       "      <td>84.2</td>\n",
       "      <td>94.7</td>\n",
       "    </tr>\n",
       "  </tbody>\n",
       "</table>\n",
       "</div>"
      ],
      "text/plain": [
       "                         accuracy  Chunk 0  Chunk 1  Chunk 2  Chunk 3  Chunk 4\n",
       "model       metric                                                            \n",
       "pretrain 7b scaled mean      82.1     78.9     84.2     73.7     78.9     94.7\n",
       "            mean             82.1     73.7     78.9     78.9     84.2     94.7"
      ]
     },
     "execution_count": 8,
     "metadata": {},
     "output_type": "execute_result"
    }
   ],
   "source": [
    "pretrain_7b_quest_scores_df = pd.DataFrame.from_dict(pretrain_7b_quest_scores).reset_index(names=\"metric\")\n",
    "pretrain_7b_quest_scores_df.loc[:, \"model\"] = [\"pretrain 7b\" for _ in range(pretrain_7b_quest_scores_df.shape[0])]\n",
    "pretrain_7b_quest_scores_df = pretrain_7b_quest_scores_df.set_index([\"model\", \"metric\"])\n",
    "pretrain_7b_quest_scores_df"
   ]
  },
  {
   "cell_type": "code",
   "execution_count": 9,
   "metadata": {},
   "outputs": [
    {
     "name": "stdout",
     "output_type": "stream",
     "text": [
      "Chunk 0 {0: {'accuracy': 73.7}, 1: {'accuracy': 68.4}, 2: {'accuracy': 63.2}, 3: {'accuracy': 52.6}}\n",
      "Chunk 1 {0: {'accuracy': 73.7}, 1: {'accuracy': 63.2}, 2: {'accuracy': 73.7}, 3: {'accuracy': 78.9}}\n",
      "Chunk 2 {0: {'accuracy': 52.6}, 1: {'accuracy': 57.9}, 2: {'accuracy': 52.6}, 3: {'accuracy': 52.6}}\n",
      "Chunk 3 {0: {'accuracy': 47.4}, 1: {'accuracy': 63.2}, 2: {'accuracy': 52.6}, 3: {'accuracy': 57.9}}\n",
      "Chunk 4 {0: {'accuracy': 57.9}, 1: {'accuracy': 73.7}, 2: {'accuracy': 68.4}, 3: {'accuracy': 63.2}}\n"
     ]
    },
    {
     "data": {
      "image/png": "[encoded data removed]",
      "text/plain": [
       "<Figure size 1440x216 with 8 Axes>"
      ]
     },
     "metadata": {
      "needs_background": "light"
     },
     "output_type": "display_data"
    }
   ],
   "source": [
    "finetune_7b_quest_scores, finetune_7b_players_scores, finetune_7b_all_cohens = compute_all_acc(finetune_metrics_7b_df)\n",
    "for key, val in finetune_7b_players_scores.items():\n",
    "    print(key, val)\n",
    "fig, ax = plt.subplots(1, 4, figsize=(20, 3))\n",
    "for i in range(4):\n",
    "    sns.heatmap(\n",
    "        finetune_7b_all_cohens[i],\n",
    "        annot=True,\n",
    "        ax=ax[i]\n",
    "    )"
   ]
  },
  {
   "cell_type": "code",
   "execution_count": 10,
   "metadata": {},
   "outputs": [
    {
     "data": {
      "text/html": [
       "<div>\n",
       "<style scoped>\n",
       "    .dataframe tbody tr th:only-of-type {\n",
       "        vertical-align: middle;\n",
       "    }\n",
       "\n",
       "    .dataframe tbody tr th {\n",
       "        vertical-align: top;\n",
       "    }\n",
       "\n",
       "    .dataframe thead th {\n",
       "        text-align: right;\n",
       "    }\n",
       "</style>\n",
       "<table border=\"1\" class=\"dataframe\">\n",
       "  <thead>\n",
       "    <tr style=\"text-align: right;\">\n",
       "      <th></th>\n",
       "      <th></th>\n",
       "      <th>accuracy</th>\n",
       "      <th>Chunk 0</th>\n",
       "      <th>Chunk 1</th>\n",
       "      <th>Chunk 2</th>\n",
       "      <th>Chunk 3</th>\n",
       "      <th>Chunk 4</th>\n",
       "    </tr>\n",
       "    <tr>\n",
       "      <th>model</th>\n",
       "      <th>metric</th>\n",
       "      <th></th>\n",
       "      <th></th>\n",
       "      <th></th>\n",
       "      <th></th>\n",
       "      <th></th>\n",
       "      <th></th>\n",
       "    </tr>\n",
       "  </thead>\n",
       "  <tbody>\n",
       "    <tr>\n",
       "      <th rowspan=\"2\" valign=\"top\">finetune 7b</th>\n",
       "      <th>scaled mean</th>\n",
       "      <td>73.7</td>\n",
       "      <td>78.9</td>\n",
       "      <td>84.2</td>\n",
       "      <td>63.2</td>\n",
       "      <td>63.2</td>\n",
       "      <td>78.9</td>\n",
       "    </tr>\n",
       "    <tr>\n",
       "      <th>mean</th>\n",
       "      <td>69.5</td>\n",
       "      <td>68.4</td>\n",
       "      <td>84.2</td>\n",
       "      <td>47.4</td>\n",
       "      <td>73.7</td>\n",
       "      <td>73.7</td>\n",
       "    </tr>\n",
       "  </tbody>\n",
       "</table>\n",
       "</div>"
      ],
      "text/plain": [
       "                         accuracy  Chunk 0  Chunk 1  Chunk 2  Chunk 3  Chunk 4\n",
       "model       metric                                                            \n",
       "finetune 7b scaled mean      73.7     78.9     84.2     63.2     63.2     78.9\n",
       "            mean             69.5     68.4     84.2     47.4     73.7     73.7"
      ]
     },
     "execution_count": 10,
     "metadata": {},
     "output_type": "execute_result"
    }
   ],
   "source": [
    "finetune_7b_quest_scores_df = pd.DataFrame.from_dict(finetune_7b_quest_scores).reset_index(names=\"metric\")\n",
    "finetune_7b_quest_scores_df.loc[:, \"model\"] = [\"finetune 7b\" for _ in range(finetune_7b_quest_scores_df.shape[0])]\n",
    "finetune_7b_quest_scores_df = finetune_7b_quest_scores_df.set_index([\"model\", \"metric\"])\n",
    "finetune_7b_quest_scores_df"
   ]
  },
  {
   "cell_type": "code",
   "execution_count": 11,
   "metadata": {},
   "outputs": [
    {
     "name": "stdout",
     "output_type": "stream",
     "text": [
      "Chunk 0 {0: {'accuracy': 63.2}, 1: {'accuracy': 73.7}, 2: {'accuracy': 73.7}}\n",
      "Chunk 1 {0: {'accuracy': 78.9}, 1: {'accuracy': 57.9}, 2: {'accuracy': 63.2}}\n",
      "Chunk 2 {0: {'accuracy': 68.4}, 1: {'accuracy': 57.9}, 2: {'accuracy': 57.9}}\n",
      "Chunk 3 {0: {'accuracy': 63.2}, 1: {'accuracy': 63.2}, 2: {'accuracy': 63.2}}\n",
      "Chunk 4 {0: {'accuracy': 63.2}, 1: {'accuracy': 63.2}, 2: {'accuracy': 73.7}}\n"
     ]
    },
    {
     "data": {
      "image/png": "[encoded data removed]",
      "text/plain": [
       "<Figure size 1440x216 with 8 Axes>"
      ]
     },
     "metadata": {
      "needs_background": "light"
     },
     "output_type": "display_data"
    }
   ],
   "source": [
    "pretrain_65b_quest_scores, pretrain_65b_players_scores, pretrain_65b_all_cohens = compute_all_acc(pretrain_metrics_65b_df)\n",
    "for key, val in pretrain_65b_players_scores.items():\n",
    "    print(key, val)\n",
    "fig, ax = plt.subplots(1, 4, figsize=(20, 3))\n",
    "for i in range(4):\n",
    "    sns.heatmap(\n",
    "        pretrain_65b_all_cohens[i],\n",
    "        annot=True,\n",
    "        ax=ax[i]\n",
    "    )"
   ]
  },
  {
   "cell_type": "code",
   "execution_count": 12,
   "metadata": {},
   "outputs": [
    {
     "data": {
      "text/html": [
       "<div>\n",
       "<style scoped>\n",
       "    .dataframe tbody tr th:only-of-type {\n",
       "        vertical-align: middle;\n",
       "    }\n",
       "\n",
       "    .dataframe tbody tr th {\n",
       "        vertical-align: top;\n",
       "    }\n",
       "\n",
       "    .dataframe thead th {\n",
       "        text-align: right;\n",
       "    }\n",
       "</style>\n",
       "<table border=\"1\" class=\"dataframe\">\n",
       "  <thead>\n",
       "    <tr style=\"text-align: right;\">\n",
       "      <th></th>\n",
       "      <th></th>\n",
       "      <th>accuracy</th>\n",
       "      <th>Chunk 0</th>\n",
       "      <th>Chunk 1</th>\n",
       "      <th>Chunk 2</th>\n",
       "      <th>Chunk 3</th>\n",
       "      <th>Chunk 4</th>\n",
       "    </tr>\n",
       "    <tr>\n",
       "      <th>model</th>\n",
       "      <th>metric</th>\n",
       "      <th></th>\n",
       "      <th></th>\n",
       "      <th></th>\n",
       "      <th></th>\n",
       "      <th></th>\n",
       "      <th></th>\n",
       "    </tr>\n",
       "  </thead>\n",
       "  <tbody>\n",
       "    <tr>\n",
       "      <th rowspan=\"2\" valign=\"top\">pretrain 65b</th>\n",
       "      <th>scaled mean</th>\n",
       "      <td>73.7</td>\n",
       "      <td>78.9</td>\n",
       "      <td>73.7</td>\n",
       "      <td>78.9</td>\n",
       "      <td>68.4</td>\n",
       "      <td>68.4</td>\n",
       "    </tr>\n",
       "    <tr>\n",
       "      <th>mean</th>\n",
       "      <td>72.6</td>\n",
       "      <td>68.4</td>\n",
       "      <td>84.2</td>\n",
       "      <td>73.7</td>\n",
       "      <td>68.4</td>\n",
       "      <td>68.4</td>\n",
       "    </tr>\n",
       "  </tbody>\n",
       "</table>\n",
       "</div>"
      ],
      "text/plain": [
       "                          accuracy  Chunk 0  Chunk 1  Chunk 2  Chunk 3  \\\n",
       "model        metric                                                      \n",
       "pretrain 65b scaled mean      73.7     78.9     73.7     78.9     68.4   \n",
       "             mean             72.6     68.4     84.2     73.7     68.4   \n",
       "\n",
       "                          Chunk 4  \n",
       "model        metric                \n",
       "pretrain 65b scaled mean     68.4  \n",
       "             mean            68.4  "
      ]
     },
     "execution_count": 12,
     "metadata": {},
     "output_type": "execute_result"
    }
   ],
   "source": [
    "pretrain_65b_quest_scores_df = pd.DataFrame.from_dict(pretrain_65b_quest_scores).reset_index(names=\"metric\")\n",
    "pretrain_65b_quest_scores_df.loc[:, \"model\"] = [\"pretrain 65b\" for _ in range(pretrain_65b_quest_scores_df.shape[0])]\n",
    "pretrain_65b_quest_scores_df = pretrain_65b_quest_scores_df.set_index([\"model\", \"metric\"])\n",
    "pretrain_65b_quest_scores_df"
   ]
  },
  {
   "cell_type": "code",
   "execution_count": 13,
   "metadata": {},
   "outputs": [
    {
     "name": "stdout",
     "output_type": "stream",
     "text": [
      "Chunk 0 {0: {'accuracy': 52.6}, 1: {'accuracy': 57.9}, 2: {'accuracy': 26.3}, 3: {'accuracy': 42.1}}\n",
      "Chunk 1 {0: {'accuracy': 57.9}, 1: {'accuracy': 63.2}, 2: {'accuracy': 52.6}, 3: {'accuracy': 73.7}}\n",
      "Chunk 2 {0: {'accuracy': 63.2}, 1: {'accuracy': 63.2}, 2: {'accuracy': 63.2}, 3: {'accuracy': 36.8}}\n",
      "Chunk 3 {0: {'accuracy': 63.2}, 1: {'accuracy': 73.7}, 2: {'accuracy': 47.4}, 3: {'accuracy': 52.6}}\n",
      "Chunk 4 {0: {'accuracy': 73.7}, 1: {'accuracy': 73.7}, 2: {'accuracy': 63.2}, 3: {'accuracy': 78.9}}\n"
     ]
    },
    {
     "data": {
      "image/png": "[encoded data removed]",
      "text/plain": [
       "<Figure size 1440x216 with 8 Axes>"
      ]
     },
     "metadata": {
      "needs_background": "light"
     },
     "output_type": "display_data"
    }
   ],
   "source": [
    "finetune_65b_quest_scores, finetune_65b_players_scores, finetune_65b_all_cohens = compute_all_acc(finetune_metrics_65b_df)\n",
    "for key, val in finetune_65b_players_scores.items():\n",
    "    print(key, val)\n",
    "fig, ax = plt.subplots(1, 4, figsize=(20, 3))\n",
    "for i in range(4):\n",
    "    sns.heatmap(\n",
    "        finetune_65b_all_cohens[i],\n",
    "        annot=True,\n",
    "        ax=ax[i]\n",
    "    )"
   ]
  },
  {
   "cell_type": "code",
   "execution_count": 14,
   "metadata": {},
   "outputs": [],
   "source": [
    "finetune_65b_quest_scores_df = pd.DataFrame.from_dict(finetune_65b_quest_scores).reset_index(names=\"metric\")\n",
    "finetune_65b_quest_scores_df.loc[:, \"model\"] = [\"finetune 65b\" for _ in range(finetune_65b_quest_scores_df.shape[0])]\n",
    "finetune_65b_quest_scores_df = finetune_65b_quest_scores_df.set_index([\"model\", \"metric\"])"
   ]
  },
  {
   "cell_type": "code",
   "execution_count": 15,
   "metadata": {},
   "outputs": [
    {
     "name": "stdout",
     "output_type": "stream",
     "text": [
      "\\begin{tabular}{llrrrrrr}\n",
      "\\toprule\n",
      " &  & accuracy & Chunk 0 & Chunk 1 & Chunk 2 & Chunk 3 & Chunk 4 \\\\\n",
      "model & metric &  &  &  &  &  &  \\\\\n",
      "\\midrule\n",
      "\\multirow[c]{2}{*}{pretrain 7b} & scaled mean & 82.1 & 78.9 & 84.2 & 73.7 & 78.9 & 94.7 \\\\\n",
      " & mean & 82.1 & 73.7 & 78.9 & 78.9 & 84.2 & 94.7 \\\\\n",
      "\\multirow[c]{2}{*}{finetune 7b} & scaled mean & 73.7 & 78.9 & 84.2 & 63.2 & 63.2 & 78.9 \\\\\n",
      " & mean & 69.5 & 68.4 & 84.2 & 47.4 & 73.7 & 73.7 \\\\\n",
      "\\multirow[c]{2}{*}{pretrain 65b} & scaled mean & 73.7 & 78.9 & 73.7 & 78.9 & 68.4 & 68.4 \\\\\n",
      " & mean & 72.6 & 68.4 & 84.2 & 73.7 & 68.4 & 68.4 \\\\\n",
      "\\multirow[c]{2}{*}{finetune 65b} & scaled mean & 65.3 & 36.8 & 73.7 & 63.2 & 68.4 & 84.2 \\\\\n",
      " & mean & 63.2 & 52.6 & 63.2 & 57.9 & 57.9 & 84.2 \\\\\n",
      "\\bottomrule\n",
      "\\end{tabular}\n",
      "\n"
     ]
    }
   ],
   "source": [
    "full_scores_df = pd.concat(\n",
    "    [\n",
    "        pretrain_7b_quest_scores_df,\n",
    "        finetune_7b_quest_scores_df,\n",
    "        pretrain_65b_quest_scores_df,\n",
    "        finetune_65b_quest_scores_df\n",
    "    ],\n",
    "    axis=0\n",
    ")\n",
    "print(full_scores_df.style.format(precision=1).to_latex(hrules=True))"
   ]
  }
 ],
 "metadata": {
  "kernelspec": {
   "display_name": "evalita",
   "language": "python",
   "name": "python3"
  },
  "language_info": {
   "codemirror_mode": {
    "name": "ipython",
    "version": 3
   },
   "file_extension": ".py",
   "mimetype": "text/x-python",
   "name": "python",
   "nbconvert_exporter": "python",
   "pygments_lexer": "ipython3",
   "version": "3.8.16"
  },
  "orig_nbformat": 4
 },
 "nbformat": 4,
 "nbformat_minor": 2
}
