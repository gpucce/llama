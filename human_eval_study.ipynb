{
 "cells": [
  {
   "cell_type": "code",
   "execution_count": 1,
   "metadata": {},
   "outputs": [],
   "source": [
    "import matplotlib.pyplot as plt\n",
    "import pandas as pd\n",
    "import numpy as np\n",
    "from scipy.stats import pearsonr\n",
    "from sklearn.metrics import accuracy_score, cohen_kappa_score\n",
    "from IPython.display import HTML, display\n",
    "import itertools\n",
    "import seaborn as sns"
   ]
  },
  {
   "cell_type": "code",
   "execution_count": 2,
   "metadata": {},
   "outputs": [],
   "source": [
    "def normalize(x):\n",
    "    return (x - x.mean()) / x.std()\n",
    "\n",
    "def compute_acc(ground_truth, x):\n",
    "    vals = x.iloc[:, 0].values\n",
    "    return accuracy_score(ground_truth, vals <= vals.mean())\n",
    "\n",
    "def get_metrics_df(_df, background_df):\n",
    "    _metrics_df = pd.DataFrame()\n",
    "    for col_idx, col in enumerate(_df.columns):\n",
    "        if _df.loc[:, col].notna().all():\n",
    "            _metrics_df.loc[:, f\"player {col_idx}\"] = _df.loc[:, col].reset_index(drop=True)\n",
    "    _metrics_df.loc[:, \"avg_pred\"] = _df.mean(axis=1).reset_index(drop=True)\n",
    "    _metrics_df.loc[:, \"bool_pred\"] = _metrics_df[\"avg_pred\"] <= 3\n",
    "    _metrics_df.loc[:, \"bool_scaled_pred\"] = _metrics_df[\"avg_pred\"] <= _metrics_df[\"avg_pred\"].mean()\n",
    "    _metrics_df.loc[:, \"high_pred\"] = _df.max(axis=1).reset_index(drop=True)\n",
    "    _metrics_df.loc[:, \"bool_high_pred\"] = _metrics_df.high_pred <= 3\n",
    "    _metrics_df.loc[:, \"low_pred\"] = _df.min(axis=1).reset_index(drop=True)\n",
    "    _metrics_df.loc[:, \"bool_low_pred\"] = _metrics_df.low_pred <= 3\n",
    "    _metrics_df.loc[:, \"bool_is_human\"] = background_df.is_human.reset_index(drop=True)\n",
    "    _metrics_df.loc[:, \"is_human\"] = _metrics_df[\"bool_is_human\"].apply(int)\n",
    "    _metrics_df.loc[:, \"missed\"] = _metrics_df[\"bool_scaled_pred\"] != _metrics_df[\"is_human\"]\n",
    "    _metrics_df.loc[:, \"catched\"] = _metrics_df[\"bool_scaled_pred\"] == _metrics_df[\"is_human\"]\n",
    "    return _metrics_df"
   ]
  },
  {
   "cell_type": "code",
   "execution_count": 3,
   "metadata": {},
   "outputs": [],
   "source": [
    "background_dfs = [pd.read_csv(f\"./llama/human_eval/data/llama_7b_fine_tuned_shorter/human_eval_df1_{i}.csv\", index_col=0) for i in range(1, 6)]\n",
    "no_control_questions = []\n",
    "new_bkg_dfs = []\n",
    "for idx, background_df in enumerate(background_dfs):\n",
    "    background_df.index = [f\"Domanda {idx * 20 + i}\" for i in range(1, 21)]\n",
    "    no_control_questions.append([f\"Domanda {idx * 20 + i}\" for i in range(1, 21) if i != 7])\n",
    "    background_df = background_df.loc[no_control_questions[idx], :]\n",
    "    new_bkg_dfs.append(background_df)\n",
    "background_df = pd.concat(new_bkg_dfs, axis=0)\n",
    "_dfs = [pd.read_csv(f\"./llama/human_eval/svolgimenti/Svolgimento_df1_{i}.csv\") for i in range(5)]\n",
    "_new_dfs = []\n",
    "all_metrics_df = []\n",
    "for idx, _df in enumerate(_dfs):\n",
    "    _df = _df.loc[_df.Stato == \"Completato\"]\n",
    "    # print(_df.filter(regex=\"Domanda*\"))\n",
    "    _df = (\n",
    "        _df.filter(regex=\"Domanda*\").applymap(\n",
    "            lambda x: float(\n",
    "                str(x)\n",
    "                .replace(\" (sicuramente scritto da una persona)\", \"\")\n",
    "                .replace(\" (sicuramente scritto da una macchina)\", \"\")\n",
    "                .replace(\"Risposta \", \"\")\n",
    "                )\n",
    "            )\n",
    "    )\n",
    "    _df = _df.loc[_df.loc[:, \"Domanda 7\"] > 3, :]\n",
    "    _df = _df.rename({f\"Domanda {i}\": f\"Domanda {idx * 20 + i}\" for i in range(1, 21)}, axis=1)\n",
    "    _df = _df.loc[:, no_control_questions[idx]]\n",
    "    _df = _df.T\n",
    "    _new_dfs.append(_df)\n",
    "    _metrics_df = get_metrics_df(_df, new_bkg_dfs[idx])\n",
    "    all_metrics_df.append(_metrics_df)\n",
    "_df = pd.concat(_new_dfs, axis=0)\n",
    "_df = pd.DataFrame([i[~np.isnan(i)][:5] for i in _df.values])\n",
    "\n",
    "metrics_df = get_metrics_df(_df, background_df)"
   ]
  },
  {
   "cell_type": "code",
   "execution_count": 4,
   "metadata": {},
   "outputs": [
    {
     "data": {
      "text/plain": [
       "(0.6842105263157895,\n",
       " 0.6631578947368421,\n",
       " 0.6210526315789474,\n",
       " 0.5473684210526316)"
      ]
     },
     "execution_count": 4,
     "metadata": {},
     "output_type": "execute_result"
    }
   ],
   "source": [
    "(\n",
    "    accuracy_score(metrics_df[\"bool_is_human\"], metrics_df[\"bool_scaled_pred\"]),\n",
    "    accuracy_score(metrics_df[\"bool_is_human\"], metrics_df[\"bool_pred\"]),\n",
    "    accuracy_score(metrics_df[\"bool_is_human\"], metrics_df[\"bool_high_pred\"]),\n",
    "    accuracy_score(metrics_df[\"bool_is_human\"], metrics_df[\"bool_low_pred\"]),\n",
    ")"
   ]
  },
  {
   "cell_type": "code",
   "execution_count": 5,
   "metadata": {},
   "outputs": [
    {
     "name": "stdout",
     "output_type": "stream",
     "text": [
      "Questionair 1\n",
      "78.9 68.4 63.2 52.6\n",
      "\t 0.5789473684210527\n",
      "\t 0.6842105263157895\n",
      "\t 0.7894736842105263\n",
      "\t 0.7368421052631579\n",
      "\t 0.3684210526315789\n",
      "\t Micro Avg acc 0.7894736842105263\n",
      "\t Macro Avg acc 0.631578947368421\n",
      "Questionair 2\n",
      "63.2 47.4 63.2 52.6\n",
      "\t 0.5263157894736842\n",
      "\t 0.3684210526315789\n",
      "\t 0.631578947368421\n",
      "\t 0.47368421052631576\n",
      "\t 0.5789473684210527\n",
      "\t Micro Avg acc 0.631578947368421\n",
      "\t Macro Avg acc 0.5157894736842105\n",
      "Questionair 3\n",
      "68.4 73.7 36.8 57.9\n",
      "\t 0.7368421052631579\n",
      "\t 0.47368421052631576\n",
      "\t 0.5789473684210527\n",
      "\t 0.6842105263157895\n",
      "\t 0.47368421052631576\n",
      "\t Micro Avg acc 0.6842105263157895\n",
      "\t Macro Avg acc 0.5894736842105264\n",
      "Questionair 4\n",
      "78.9 73.7 78.9 52.6\n",
      "\t 0.7368421052631579\n",
      "\t 0.7368421052631579\n",
      "\t 0.6842105263157895\n",
      "\t 0.8421052631578947\n",
      "\t 0.7894736842105263\n",
      "\t Micro Avg acc 0.7894736842105263\n",
      "\t Macro Avg acc 0.7578947368421053\n",
      "Questionair 5\n",
      "57.9 73.7 63.2 57.9\n",
      "\t 0.5789473684210527\n",
      "\t 0.6842105263157895\n",
      "\t 0.5789473684210527\n",
      "\t 0.8421052631578947\n",
      "\t 0.5263157894736842\n",
      "\t Micro Avg acc 0.5789473684210527\n",
      "\t Macro Avg acc 0.6421052631578947\n"
     ]
    }
   ],
   "source": [
    "all_cohens = []\n",
    "for idx, metrics_df in enumerate(all_metrics_df):\n",
    "    print(f\"Questionair {idx + 1}\")\n",
    "    quest_x = []\n",
    "    print(\n",
    "        np.round(accuracy_score(metrics_df[\"bool_is_human\"], metrics_df[\"bool_scaled_pred\"]),3) * 100,\n",
    "        np.round(accuracy_score(metrics_df[\"bool_is_human\"], metrics_df[\"bool_pred\"]),3) * 100,\n",
    "        np.round(accuracy_score(metrics_df[\"bool_is_human\"], metrics_df[\"bool_high_pred\"]),3) * 100,\n",
    "        np.round(accuracy_score(metrics_df[\"bool_is_human\"], metrics_df[\"bool_low_pred\"]),3) * 100,\n",
    "    )\n",
    "    for i in range(5):\n",
    "        acc = accuracy_score(\n",
    "            metrics_df.loc[:, f\"bool_is_human\"],\n",
    "            metrics_df.loc[:, f\"player {i}\"] < 3.0\n",
    "        )\n",
    "        print(\"\\t\", acc)\n",
    "        quest_x.append(acc)\n",
    "    all_data = np.zeros((5, 5))\n",
    "    for i,j in itertools.combinations(range(5), r=2):\n",
    "        all_data[i,j] = cohen_kappa_score(\n",
    "            metrics_df.loc[:, f\"player {i}\"] < 3.0,\n",
    "            metrics_df.loc[:, f\"player {j}\"] < 3.0\n",
    "        )\n",
    "    all_cohens.append(all_data)\n",
    "    acc = accuracy_score(\n",
    "        metrics_df.loc[:, f\"bool_is_human\"],\n",
    "        metrics_df.loc[:, \"bool_scaled_pred\"]\n",
    "    )\n",
    "    print(f\"\\t Micro Avg acc {acc}\")\n",
    "    print(f\"\\t Macro Avg acc {np.mean(quest_x)}\")"
   ]
  },
  {
   "cell_type": "code",
   "execution_count": 12,
   "metadata": {},
   "outputs": [
    {
     "data": {
      "image/png": "[encoded data removed]",
      "text/plain": [
       "<Figure size 1440x216 with 10 Axes>"
      ]
     },
     "metadata": {
      "needs_background": "light"
     },
     "output_type": "display_data"
    }
   ],
   "source": [
    "fig, ax = plt.subplots(1, 5, figsize=(20, 3))\n",
    "for i in range(5):\n",
    "    sns.heatmap(\n",
    "        all_cohens[i],\n",
    "        annot=True,\n",
    "        ax=ax[i]\n",
    "    )"
   ]
  },
  {
   "cell_type": "code",
   "execution_count": 208,
   "metadata": {},
   "outputs": [
    {
     "name": "stdout",
     "output_type": "stream",
     "text": [
      "105\n"
     ]
    },
    {
     "data": {
      "text/html": [
       "<p style=\"text-align: justify;\"><span style=\"font-size: 14px;\">Il testo B segue il testo A. Pensi che B sia stato scritto da una persona o da una macchina?<br><br><strong>A:</strong>&nbsp;S'indigna e prova a difendersi Giuliano Poletti, ministro del Lavoro \"pizzicato\" nel 2010 a tavola con l'allora sindaco di Roma Gianni Alemanno, l’ex ad dell’Ama Panzironi, il dimissionario assessore alla</span></p><hr id=\"null\"><span style=\"font-size: 16px;\"><strong>B:&nbsp;</strong> Sicurezza dei trasporti e al Turismo, Giuseppe Tomasi di Lampedusa, e la neonata viceministra alla Giustizia, Nicodemo Daoud. La viceministra, a firma della sua prima lettera di dimissioni dopo la nomina, annuncia che \"molti sono e resteranno l'oggetto di un'inchiesta aperta in sede giudiziaria\" e chiede un'indagine \"intorno a...</span>"
      ],
      "text/plain": [
       "<IPython.core.display.HTML object>"
      ]
     },
     "metadata": {},
     "output_type": "display_data"
    },
    {
     "data": {
      "text/html": [
       "1 (sicuramente scritto da una persona)"
      ],
      "text/plain": [
       "<IPython.core.display.HTML object>"
      ]
     },
     "metadata": {},
     "output_type": "display_data"
    },
    {
     "data": {
      "text/html": [
       "2"
      ],
      "text/plain": [
       "<IPython.core.display.HTML object>"
      ]
     },
     "metadata": {},
     "output_type": "display_data"
    },
    {
     "data": {
      "text/html": [
       "3"
      ],
      "text/plain": [
       "<IPython.core.display.HTML object>"
      ]
     },
     "metadata": {},
     "output_type": "display_data"
    },
    {
     "data": {
      "text/html": [
       "4"
      ],
      "text/plain": [
       "<IPython.core.display.HTML object>"
      ]
     },
     "metadata": {},
     "output_type": "display_data"
    },
    {
     "data": {
      "text/html": [
       "5 (sicuramente scritto da una macchina)"
      ],
      "text/plain": [
       "<IPython.core.display.HTML object>"
      ]
     },
     "metadata": {},
     "output_type": "display_data"
    },
    {
     "name": "stdout",
     "output_type": "stream",
     "text": [
      "105\n"
     ]
    },
    {
     "data": {
      "text/html": [
       "<p style=\"text-align: justify;\"><span style=\"font-size: 14px;\">Il testo B segue il testo A. Pensi che B sia stato scritto da una persona o da una macchina?<br><br><strong>A:</strong>&nbsp;Si torna a parlare della Flat tax. La Lega, che aveva sottoscritto la proposta contenuta nel programma del centrodestra, intende portarla nell'agenda del governo giallo-verde. Il senatore della Lega Alberto</span></p><hr id=\"null\"><span style=\"font-size: 16px;\"><strong>B:&nbsp;</strong> Bagnai ha sottolineato come la flat tax, che secondo il Fisco italiano sarebbe un \"sinistro impatto sul reddito\", sia invece un \"frutto della modernità, dell'innovazione e del progresso\". \"In questo paese, nonostante la nascita della cultura dell'impresa, non si fanno i conti, non ci sono registri, non esiste una...</span>"
      ],
      "text/plain": [
       "<IPython.core.display.HTML object>"
      ]
     },
     "metadata": {},
     "output_type": "display_data"
    },
    {
     "data": {
      "text/html": [
       "1 (sicuramente scritto da una persona)"
      ],
      "text/plain": [
       "<IPython.core.display.HTML object>"
      ]
     },
     "metadata": {},
     "output_type": "display_data"
    },
    {
     "data": {
      "text/html": [
       "2"
      ],
      "text/plain": [
       "<IPython.core.display.HTML object>"
      ]
     },
     "metadata": {},
     "output_type": "display_data"
    },
    {
     "data": {
      "text/html": [
       "3"
      ],
      "text/plain": [
       "<IPython.core.display.HTML object>"
      ]
     },
     "metadata": {},
     "output_type": "display_data"
    },
    {
     "data": {
      "text/html": [
       "4"
      ],
      "text/plain": [
       "<IPython.core.display.HTML object>"
      ]
     },
     "metadata": {},
     "output_type": "display_data"
    },
    {
     "data": {
      "text/html": [
       "5 (sicuramente scritto da una macchina)"
      ],
      "text/plain": [
       "<IPython.core.display.HTML object>"
      ]
     },
     "metadata": {},
     "output_type": "display_data"
    },
    {
     "name": "stdout",
     "output_type": "stream",
     "text": [
      "105\n"
     ]
    },
    {
     "data": {
      "text/html": [
       "<p style=\"text-align: justify;\"><span style=\"font-size: 14px;\">Il testo B segue il testo A. Pensi che B sia stato scritto da una persona o da una macchina?<br><br><strong>A:</strong>&nbsp;Riceviamo e pubblichiamo: \"In relazione all'articolo di seguito riportato desidero puntualizzare che il marchio Lebole, di proprietà della mia azienda, non è mai stato posseduto da alcun membro della famiglia</span></p><hr id=\"null\"><span style=\"font-size: 16px;\"><strong>B:&nbsp;</strong> Moretti. Attilio Lebole - Presidente Textura Spa\" \"Anche il giro intorno al premier Matteo Renzi fa affari grazie a società con sede a Panama, un legame che si intreccia anche con gli interessi di Lorenzo Rosi, ultimo presidente di Banca Etruria\". È quanto afferma Giovanni Donzelli, coordinatore dell'esecutivo nazionale...</span>"
      ],
      "text/plain": [
       "<IPython.core.display.HTML object>"
      ]
     },
     "metadata": {},
     "output_type": "display_data"
    },
    {
     "data": {
      "text/html": [
       "1 (sicuramente scritto da una persona)"
      ],
      "text/plain": [
       "<IPython.core.display.HTML object>"
      ]
     },
     "metadata": {},
     "output_type": "display_data"
    },
    {
     "data": {
      "text/html": [
       "2"
      ],
      "text/plain": [
       "<IPython.core.display.HTML object>"
      ]
     },
     "metadata": {},
     "output_type": "display_data"
    },
    {
     "data": {
      "text/html": [
       "3"
      ],
      "text/plain": [
       "<IPython.core.display.HTML object>"
      ]
     },
     "metadata": {},
     "output_type": "display_data"
    },
    {
     "data": {
      "text/html": [
       "4"
      ],
      "text/plain": [
       "<IPython.core.display.HTML object>"
      ]
     },
     "metadata": {},
     "output_type": "display_data"
    },
    {
     "data": {
      "text/html": [
       "5 (sicuramente scritto da una macchina)"
      ],
      "text/plain": [
       "<IPython.core.display.HTML object>"
      ]
     },
     "metadata": {},
     "output_type": "display_data"
    },
    {
     "name": "stdout",
     "output_type": "stream",
     "text": [
      "105\n"
     ]
    },
    {
     "data": {
      "text/html": [
       "<p style=\"text-align: justify;\"><span style=\"font-size: 14px;\">Il testo B segue il testo A. Pensi che B sia stato scritto da una persona o da una macchina?<br><br><strong>A:</strong>&nbsp;La libertà di espressione va difesa. Sempre. E non a corrente alternata come fa la sinistr. Il giudice Immacolata Iadeluca del tribunale di Torino ha assolto lo scrittore Erri De</span></p><hr id=\"null\"><span style=\"font-size: 16px;\"><strong>B:&nbsp;</strong> Luca per \"incitamento alla violenza\" contro lo scrittore Fausta Quaranta. Questo dopo che la ben nota sorella della dea Venere, in un articolo del suo quotidiano, aveva accusato l'autore di \"condotta indecente\". L'accusa era nata dopo che il De Luca aveva pubblicato una lettera sull'Europa che lo scrittore Fausta...</span>"
      ],
      "text/plain": [
       "<IPython.core.display.HTML object>"
      ]
     },
     "metadata": {},
     "output_type": "display_data"
    },
    {
     "data": {
      "text/html": [
       "1 (sicuramente scritto da una persona)"
      ],
      "text/plain": [
       "<IPython.core.display.HTML object>"
      ]
     },
     "metadata": {},
     "output_type": "display_data"
    },
    {
     "data": {
      "text/html": [
       "2"
      ],
      "text/plain": [
       "<IPython.core.display.HTML object>"
      ]
     },
     "metadata": {},
     "output_type": "display_data"
    },
    {
     "data": {
      "text/html": [
       "3"
      ],
      "text/plain": [
       "<IPython.core.display.HTML object>"
      ]
     },
     "metadata": {},
     "output_type": "display_data"
    },
    {
     "data": {
      "text/html": [
       "4"
      ],
      "text/plain": [
       "<IPython.core.display.HTML object>"
      ]
     },
     "metadata": {},
     "output_type": "display_data"
    },
    {
     "data": {
      "text/html": [
       "5 (sicuramente scritto da una macchina)"
      ],
      "text/plain": [
       "<IPython.core.display.HTML object>"
      ]
     },
     "metadata": {},
     "output_type": "display_data"
    },
    {
     "name": "stdout",
     "output_type": "stream",
     "text": [
      "105\n"
     ]
    },
    {
     "data": {
      "text/html": [
       "<p style=\"text-align: justify;\"><span style=\"font-size: 14px;\">Il testo B segue il testo A. Pensi che B sia stato scritto da una persona o da una macchina?<br><br><strong>A:</strong>&nbsp;Non diventerà notte e non ci saranno pericoli di blackout elettrici. La ridotta luminosità potrebbe mettere alla prova il sistema elettrico italiano e quello europeo, che hanno una buona percentuale</span></p><hr id=\"null\"><span style=\"font-size: 16px;\"><strong>B:&nbsp;</strong> di impianti fotovoltaici, ma senza grandi rischi. \"È ora di sfatare qualche falso mito, balzato agli onori della cronaca più catastrofista\", rileva in una nota l’Associazione Tuscolana Astrofili (Ata). \"Roma - aggiungono gli astrofili - non sprofonderà nel buio più totale. Il Sole sarà coperto per circa il 65%...</span>"
      ],
      "text/plain": [
       "<IPython.core.display.HTML object>"
      ]
     },
     "metadata": {},
     "output_type": "display_data"
    },
    {
     "data": {
      "text/html": [
       "1 (sicuramente scritto da una persona)"
      ],
      "text/plain": [
       "<IPython.core.display.HTML object>"
      ]
     },
     "metadata": {},
     "output_type": "display_data"
    },
    {
     "data": {
      "text/html": [
       "2"
      ],
      "text/plain": [
       "<IPython.core.display.HTML object>"
      ]
     },
     "metadata": {},
     "output_type": "display_data"
    },
    {
     "data": {
      "text/html": [
       "3"
      ],
      "text/plain": [
       "<IPython.core.display.HTML object>"
      ]
     },
     "metadata": {},
     "output_type": "display_data"
    },
    {
     "data": {
      "text/html": [
       "4"
      ],
      "text/plain": [
       "<IPython.core.display.HTML object>"
      ]
     },
     "metadata": {},
     "output_type": "display_data"
    },
    {
     "data": {
      "text/html": [
       "5 (sicuramente scritto da una macchina)"
      ],
      "text/plain": [
       "<IPython.core.display.HTML object>"
      ]
     },
     "metadata": {},
     "output_type": "display_data"
    },
    {
     "name": "stdout",
     "output_type": "stream",
     "text": [
      "105\n"
     ]
    },
    {
     "data": {
      "text/html": [
       "<p style=\"text-align: justify;\"><span style=\"font-size: 14px;\">Il testo B segue il testo A. Pensi che B sia stato scritto da una persona o da una macchina?<br><br><strong>A:</strong>&nbsp;Il primo è stato Carlo Tavecchio a parlare di banane e extracomunitari, con accuse di razzismo e relativa squalifica in campo europeo. Ora è la volta di Felice Belloli, pupillo</span></p><hr id=\"null\"><span style=\"font-size: 16px;\"><strong>B:&nbsp;</strong> del Ct, che ha fatto esplodere la questione. Oggi la squadra italiana è stata squalificata per 5 punti, dopo averli già persi per 3, e ora l’Italia è al di sotto dei 10 punti, soprattutto dopo aver perso gli ultimi 4 incontri in Europa. Belloli ha parlato di Copenaghen...</span>"
      ],
      "text/plain": [
       "<IPython.core.display.HTML object>"
      ]
     },
     "metadata": {},
     "output_type": "display_data"
    },
    {
     "data": {
      "text/html": [
       "1 (sicuramente scritto da una persona)"
      ],
      "text/plain": [
       "<IPython.core.display.HTML object>"
      ]
     },
     "metadata": {},
     "output_type": "display_data"
    },
    {
     "data": {
      "text/html": [
       "2"
      ],
      "text/plain": [
       "<IPython.core.display.HTML object>"
      ]
     },
     "metadata": {},
     "output_type": "display_data"
    },
    {
     "data": {
      "text/html": [
       "3"
      ],
      "text/plain": [
       "<IPython.core.display.HTML object>"
      ]
     },
     "metadata": {},
     "output_type": "display_data"
    },
    {
     "data": {
      "text/html": [
       "4"
      ],
      "text/plain": [
       "<IPython.core.display.HTML object>"
      ]
     },
     "metadata": {},
     "output_type": "display_data"
    },
    {
     "data": {
      "text/html": [
       "5 (sicuramente scritto da una macchina)"
      ],
      "text/plain": [
       "<IPython.core.display.HTML object>"
      ]
     },
     "metadata": {},
     "output_type": "display_data"
    },
    {
     "name": "stdout",
     "output_type": "stream",
     "text": [
      "107\n"
     ]
    },
    {
     "data": {
      "text/html": [
       "<p style=\"text-align: justify;\"><span style=\"font-size: 14px;\">Il testo B segue il testo A. Pensi che B sia stato scritto da una persona o da una macchina?<br><br><strong>A:</strong>&nbsp;Nel giro di poco, Facebook potrebbe potenzialmente raggiungere 400 milioni di iscritti al miliardo e 800 milioni attuali. Si tratta della popolazione della Cina , mercato che Mark Zuckenberg punta da tempo.</span></p><hr id=\"null\"><span style=\"font-size: 16px;\"><strong>B:&nbsp;</strong> E' quello che ha dichiarato il fondatore di Facebook in un'intervista a Bloomberg. \"Siamo pronti a fare tutto quello che è necessario per entrare in Cina\" ha detto Zuckerberg. \"Siamo pronti a fare tutto quello che è necessario per entrare in Cina\". \"Siamo pronti a fare tutto quello che...</span>"
      ],
      "text/plain": [
       "<IPython.core.display.HTML object>"
      ]
     },
     "metadata": {},
     "output_type": "display_data"
    },
    {
     "data": {
      "text/html": [
       "1 (sicuramente scritto da una persona)"
      ],
      "text/plain": [
       "<IPython.core.display.HTML object>"
      ]
     },
     "metadata": {},
     "output_type": "display_data"
    },
    {
     "data": {
      "text/html": [
       "2"
      ],
      "text/plain": [
       "<IPython.core.display.HTML object>"
      ]
     },
     "metadata": {},
     "output_type": "display_data"
    },
    {
     "data": {
      "text/html": [
       "3"
      ],
      "text/plain": [
       "<IPython.core.display.HTML object>"
      ]
     },
     "metadata": {},
     "output_type": "display_data"
    },
    {
     "data": {
      "text/html": [
       "4"
      ],
      "text/plain": [
       "<IPython.core.display.HTML object>"
      ]
     },
     "metadata": {},
     "output_type": "display_data"
    },
    {
     "data": {
      "text/html": [
       "5 (sicuramente scritto da una macchina)"
      ],
      "text/plain": [
       "<IPython.core.display.HTML object>"
      ]
     },
     "metadata": {},
     "output_type": "display_data"
    },
    {
     "name": "stdout",
     "output_type": "stream",
     "text": [
      "105\n"
     ]
    },
    {
     "data": {
      "text/html": [
       "<p style=\"text-align: justify;\"><span style=\"font-size: 14px;\">Il testo B segue il testo A. Pensi che B sia stato scritto da una persona o da una macchina?<br><br><strong>A:</strong>&nbsp;La spia che venne dal freddo ha un nome: Tess88. Di lei si sa solo che è una hacker e che opera dalla Russia. È al suo computer che portano</span></p><hr id=\"null\"><span style=\"font-size: 16px;\"><strong>B:&nbsp;</strong> le prime tracce dell'offensiva che segna la nuova, clamorosa tappa della guerra informatica che agita il pianeta: l'attacco a Yahoo, il colosso americano (colosso traballante: e il dettaglio non è irrilevante) che si è visto perforare a ripetizione, fino a quando ieri ha dovuto ammettere la catastrofe: mezzo miliardo...</span>"
      ],
      "text/plain": [
       "<IPython.core.display.HTML object>"
      ]
     },
     "metadata": {},
     "output_type": "display_data"
    },
    {
     "data": {
      "text/html": [
       "1 (sicuramente scritto da una persona)"
      ],
      "text/plain": [
       "<IPython.core.display.HTML object>"
      ]
     },
     "metadata": {},
     "output_type": "display_data"
    },
    {
     "data": {
      "text/html": [
       "2"
      ],
      "text/plain": [
       "<IPython.core.display.HTML object>"
      ]
     },
     "metadata": {},
     "output_type": "display_data"
    },
    {
     "data": {
      "text/html": [
       "3"
      ],
      "text/plain": [
       "<IPython.core.display.HTML object>"
      ]
     },
     "metadata": {},
     "output_type": "display_data"
    },
    {
     "data": {
      "text/html": [
       "4"
      ],
      "text/plain": [
       "<IPython.core.display.HTML object>"
      ]
     },
     "metadata": {},
     "output_type": "display_data"
    },
    {
     "data": {
      "text/html": [
       "5 (sicuramente scritto da una macchina)"
      ],
      "text/plain": [
       "<IPython.core.display.HTML object>"
      ]
     },
     "metadata": {},
     "output_type": "display_data"
    },
    {
     "name": "stdout",
     "output_type": "stream",
     "text": [
      "105\n"
     ]
    },
    {
     "data": {
      "text/html": [
       "<p style=\"text-align: justify;\"><span style=\"font-size: 14px;\">Il testo B segue il testo A. Pensi che B sia stato scritto da una persona o da una macchina?<br><br><strong>A:</strong>&nbsp;\"Con gli attentati di questa notte alla Stazione di Bologna I cosiddetti pacifisti e antirazzisti cercano di impedire libere e democratiche manifestazioni. Renzi e Alfano intervengano immediatamente. Chi non condanna</span></p><hr id=\"null\"><span style=\"font-size: 16px;\"><strong>B:&nbsp;</strong> è complice!\". Lo scrive su Facebook il presidente di Fratelli d’Italia, Giorgia Meloni, attesa al raduno Centrodetsra in città. E dello stesso parere è il leader della Lega Nord: \"Splendida domenica Amici! Di notte è stata danneggiata in diversi punti la linea ferroviaria fra Milano e Bologna, ora rallentata:...</span>"
      ],
      "text/plain": [
       "<IPython.core.display.HTML object>"
      ]
     },
     "metadata": {},
     "output_type": "display_data"
    },
    {
     "data": {
      "text/html": [
       "1 (sicuramente scritto da una persona)"
      ],
      "text/plain": [
       "<IPython.core.display.HTML object>"
      ]
     },
     "metadata": {},
     "output_type": "display_data"
    },
    {
     "data": {
      "text/html": [
       "2"
      ],
      "text/plain": [
       "<IPython.core.display.HTML object>"
      ]
     },
     "metadata": {},
     "output_type": "display_data"
    },
    {
     "data": {
      "text/html": [
       "3"
      ],
      "text/plain": [
       "<IPython.core.display.HTML object>"
      ]
     },
     "metadata": {},
     "output_type": "display_data"
    },
    {
     "data": {
      "text/html": [
       "4"
      ],
      "text/plain": [
       "<IPython.core.display.HTML object>"
      ]
     },
     "metadata": {},
     "output_type": "display_data"
    },
    {
     "data": {
      "text/html": [
       "5 (sicuramente scritto da una macchina)"
      ],
      "text/plain": [
       "<IPython.core.display.HTML object>"
      ]
     },
     "metadata": {},
     "output_type": "display_data"
    },
    {
     "name": "stdout",
     "output_type": "stream",
     "text": [
      "105\n"
     ]
    },
    {
     "data": {
      "text/html": [
       "<p style=\"text-align: justify;\"><span style=\"font-size: 14px;\">Il testo B segue il testo A. Pensi che B sia stato scritto da una persona o da una macchina?<br><br><strong>A:</strong>&nbsp;A pochi giorni dal quarantesimo anniversario dell’approvazione della legge 194 in Italia, anche l’Irlanda si prepara a legalizzare l’ aborto. Aborto, il referendum in Irlanda Dopo aver detto sì alle</span></p><hr id=\"null\"><span style=\"font-size: 16px;\"><strong>B:&nbsp;</strong> unioni tra persone omosessuali I cittadini irlandesi si sono recati alle urne per decidere se emendare la Costituzione e cancellare la legge che vieta alle donne di ricorrere all’interruzione volontaria di gravidanza in qualsiasi circostanza, compreso lo stupro, l'incesto o problemi per il feto. Una norma introdotta nel 1983,...</span>"
      ],
      "text/plain": [
       "<IPython.core.display.HTML object>"
      ]
     },
     "metadata": {},
     "output_type": "display_data"
    },
    {
     "data": {
      "text/html": [
       "1 (sicuramente scritto da una persona)"
      ],
      "text/plain": [
       "<IPython.core.display.HTML object>"
      ]
     },
     "metadata": {},
     "output_type": "display_data"
    },
    {
     "data": {
      "text/html": [
       "2"
      ],
      "text/plain": [
       "<IPython.core.display.HTML object>"
      ]
     },
     "metadata": {},
     "output_type": "display_data"
    },
    {
     "data": {
      "text/html": [
       "3"
      ],
      "text/plain": [
       "<IPython.core.display.HTML object>"
      ]
     },
     "metadata": {},
     "output_type": "display_data"
    },
    {
     "data": {
      "text/html": [
       "4"
      ],
      "text/plain": [
       "<IPython.core.display.HTML object>"
      ]
     },
     "metadata": {},
     "output_type": "display_data"
    },
    {
     "data": {
      "text/html": [
       "5 (sicuramente scritto da una macchina)"
      ],
      "text/plain": [
       "<IPython.core.display.HTML object>"
      ]
     },
     "metadata": {},
     "output_type": "display_data"
    },
    {
     "name": "stdout",
     "output_type": "stream",
     "text": [
      "105\n"
     ]
    },
    {
     "data": {
      "text/html": [
       "<p style=\"text-align: justify;\"><span style=\"font-size: 14px;\">Il testo B segue il testo A. Pensi che B sia stato scritto da una persona o da una macchina?<br><br><strong>A:</strong>&nbsp;Uno stato di grave degrado sulla parte ovest del viadotto, compatibile con quello del moncone posizionato a levante, precedente al momento del disastro. Mentre l'inchiesta sul crollo del ponte Morandi</span></p><hr id=\"null\"><span style=\"font-size: 16px;\"><strong>B:&nbsp;</strong> a Genova si arricchisce di nuovi punti fermi, potrebbero arrivare nelle prossime ore novità sui nomi dei primi indagati per il disastro dello scorso 14 agosto, nel quale hanno perso la vita 43 persone. Vanno in fretta le verifiche intorno alla tragedia del viadotto dell'A10 e, secondo indiscrezioni non...</span>"
      ],
      "text/plain": [
       "<IPython.core.display.HTML object>"
      ]
     },
     "metadata": {},
     "output_type": "display_data"
    },
    {
     "data": {
      "text/html": [
       "1 (sicuramente scritto da una persona)"
      ],
      "text/plain": [
       "<IPython.core.display.HTML object>"
      ]
     },
     "metadata": {},
     "output_type": "display_data"
    },
    {
     "data": {
      "text/html": [
       "2"
      ],
      "text/plain": [
       "<IPython.core.display.HTML object>"
      ]
     },
     "metadata": {},
     "output_type": "display_data"
    },
    {
     "data": {
      "text/html": [
       "3"
      ],
      "text/plain": [
       "<IPython.core.display.HTML object>"
      ]
     },
     "metadata": {},
     "output_type": "display_data"
    },
    {
     "data": {
      "text/html": [
       "4"
      ],
      "text/plain": [
       "<IPython.core.display.HTML object>"
      ]
     },
     "metadata": {},
     "output_type": "display_data"
    },
    {
     "data": {
      "text/html": [
       "5 (sicuramente scritto da una macchina)"
      ],
      "text/plain": [
       "<IPython.core.display.HTML object>"
      ]
     },
     "metadata": {},
     "output_type": "display_data"
    },
    {
     "name": "stdout",
     "output_type": "stream",
     "text": [
      "105\n"
     ]
    },
    {
     "data": {
      "text/html": [
       "<p style=\"text-align: justify;\"><span style=\"font-size: 14px;\">Il testo B segue il testo A. Pensi che B sia stato scritto da una persona o da una macchina?<br><br><strong>A:</strong>&nbsp;L'accordo è stato firmato ieri e \" prevede da subito la partenza dei camion, con una pianificazione settimanale \". I rifiuti al centro dell' emergenza romana finiranno ad Aprilia, che</span></p><hr id=\"null\"><span style=\"font-size: 16px;\"><strong>B:&nbsp;</strong> servirà da valvola di sfogo per la Capitale, anche se l'assessore all'Ambiente del Campidoglio, Pinuccia Montanari, assicura in un'intervista a SkyTg24 che la città \" non è in una condizioni di emergenza \", ma piuttosto \" presenta delle criticità a macchia di leopardo \". L'assessore della Raggi ricorda come...</span>"
      ],
      "text/plain": [
       "<IPython.core.display.HTML object>"
      ]
     },
     "metadata": {},
     "output_type": "display_data"
    },
    {
     "data": {
      "text/html": [
       "1 (sicuramente scritto da una persona)"
      ],
      "text/plain": [
       "<IPython.core.display.HTML object>"
      ]
     },
     "metadata": {},
     "output_type": "display_data"
    },
    {
     "data": {
      "text/html": [
       "2"
      ],
      "text/plain": [
       "<IPython.core.display.HTML object>"
      ]
     },
     "metadata": {},
     "output_type": "display_data"
    },
    {
     "data": {
      "text/html": [
       "3"
      ],
      "text/plain": [
       "<IPython.core.display.HTML object>"
      ]
     },
     "metadata": {},
     "output_type": "display_data"
    },
    {
     "data": {
      "text/html": [
       "4"
      ],
      "text/plain": [
       "<IPython.core.display.HTML object>"
      ]
     },
     "metadata": {},
     "output_type": "display_data"
    },
    {
     "data": {
      "text/html": [
       "5 (sicuramente scritto da una macchina)"
      ],
      "text/plain": [
       "<IPython.core.display.HTML object>"
      ]
     },
     "metadata": {},
     "output_type": "display_data"
    },
    {
     "name": "stdout",
     "output_type": "stream",
     "text": [
      "105\n"
     ]
    },
    {
     "data": {
      "text/html": [
       "<p style=\"text-align: justify;\"><span style=\"font-size: 14px;\">Il testo B segue il testo A. Pensi che B sia stato scritto da una persona o da una macchina?<br><br><strong>A:</strong>&nbsp;Roma - Vicini ai cittadini e alle piccole imprese con le parole. Nei fatti, però, il programma economico del Movimento 5 Stelle sembra voler creare un mostruoso Leviatano statale piuttosto</span></p><hr id=\"null\"><span style=\"font-size: 16px;\"><strong>B:&nbsp;</strong> che mettere in grado i piccoli imprenditori di fare il bene. Del resto, lo stesso Paolo Grimoldi, ex-segretario generale di Legambiente, afferma che il programma \"fondamentale\" del \"M5S non va certo in porto, ma non crea problemi\". Da vicino, invece, il programma, come quello di Matteo Renzi, del Partito...</span>"
      ],
      "text/plain": [
       "<IPython.core.display.HTML object>"
      ]
     },
     "metadata": {},
     "output_type": "display_data"
    },
    {
     "data": {
      "text/html": [
       "1 (sicuramente scritto da una persona)"
      ],
      "text/plain": [
       "<IPython.core.display.HTML object>"
      ]
     },
     "metadata": {},
     "output_type": "display_data"
    },
    {
     "data": {
      "text/html": [
       "2"
      ],
      "text/plain": [
       "<IPython.core.display.HTML object>"
      ]
     },
     "metadata": {},
     "output_type": "display_data"
    },
    {
     "data": {
      "text/html": [
       "3"
      ],
      "text/plain": [
       "<IPython.core.display.HTML object>"
      ]
     },
     "metadata": {},
     "output_type": "display_data"
    },
    {
     "data": {
      "text/html": [
       "4"
      ],
      "text/plain": [
       "<IPython.core.display.HTML object>"
      ]
     },
     "metadata": {},
     "output_type": "display_data"
    },
    {
     "data": {
      "text/html": [
       "5 (sicuramente scritto da una macchina)"
      ],
      "text/plain": [
       "<IPython.core.display.HTML object>"
      ]
     },
     "metadata": {},
     "output_type": "display_data"
    },
    {
     "name": "stdout",
     "output_type": "stream",
     "text": [
      "105\n"
     ]
    },
    {
     "data": {
      "text/html": [
       "<p style=\"text-align: justify;\"><span style=\"font-size: 14px;\">Il testo B segue il testo A. Pensi che B sia stato scritto da una persona o da una macchina?<br><br><strong>A:</strong>&nbsp;Ieri pomeriggio, lasciando il ristorante nel cuore di Roma, dopo aver pranzato in compagnia del figlio, Matteo Salvini aveva rivelato ai cronisti che non sarebbe stata soltanto una giornata di</span></p><hr id=\"null\"><span style=\"font-size: 16px;\"><strong>B:&nbsp;</strong> politica. \"Questa sera - aveva poi annunciato - andrò allo stadio a vedere la partita del Milan all'Olimpico, con mio figlio perché glielo ho promesso e voglio mantenere questa promessa. È il suo regalo di compleanno\". Peccato che la serata sia stata ugualmente buttata in politica da Repubblica che...</span>"
      ],
      "text/plain": [
       "<IPython.core.display.HTML object>"
      ]
     },
     "metadata": {},
     "output_type": "display_data"
    },
    {
     "data": {
      "text/html": [
       "1 (sicuramente scritto da una persona)"
      ],
      "text/plain": [
       "<IPython.core.display.HTML object>"
      ]
     },
     "metadata": {},
     "output_type": "display_data"
    },
    {
     "data": {
      "text/html": [
       "2"
      ],
      "text/plain": [
       "<IPython.core.display.HTML object>"
      ]
     },
     "metadata": {},
     "output_type": "display_data"
    },
    {
     "data": {
      "text/html": [
       "3"
      ],
      "text/plain": [
       "<IPython.core.display.HTML object>"
      ]
     },
     "metadata": {},
     "output_type": "display_data"
    },
    {
     "data": {
      "text/html": [
       "4"
      ],
      "text/plain": [
       "<IPython.core.display.HTML object>"
      ]
     },
     "metadata": {},
     "output_type": "display_data"
    },
    {
     "data": {
      "text/html": [
       "5 (sicuramente scritto da una macchina)"
      ],
      "text/plain": [
       "<IPython.core.display.HTML object>"
      ]
     },
     "metadata": {},
     "output_type": "display_data"
    },
    {
     "name": "stdout",
     "output_type": "stream",
     "text": [
      "105\n"
     ]
    },
    {
     "data": {
      "text/html": [
       "<p style=\"text-align: justify;\"><span style=\"font-size: 14px;\">Il testo B segue il testo A. Pensi che B sia stato scritto da una persona o da una macchina?<br><br><strong>A:</strong>&nbsp;Il 31 maggio prossimo è la data indicata dal Consiglio dei Ministri per le prossime elezioni regionali ed amministrative. Nel comunicato diramato al termine della riunione, si legge infatti che</span></p><hr id=\"null\"><span style=\"font-size: 16px;\"><strong>B:&nbsp;</strong> \"la Presidenza del Consiglio, consultandosi con il Presidente del Consiglio e tenendo conto degli impegni e dei compiti del Governo, ritiene che la data delle elezioni regionali e amministrative abbia ancora da essere stabilita\". Quella data, in caso di accordo, sarà fissata nella settimana che va dal 26 al...</span>"
      ],
      "text/plain": [
       "<IPython.core.display.HTML object>"
      ]
     },
     "metadata": {},
     "output_type": "display_data"
    },
    {
     "data": {
      "text/html": [
       "1 (sicuramente scritto da una persona)"
      ],
      "text/plain": [
       "<IPython.core.display.HTML object>"
      ]
     },
     "metadata": {},
     "output_type": "display_data"
    },
    {
     "data": {
      "text/html": [
       "2"
      ],
      "text/plain": [
       "<IPython.core.display.HTML object>"
      ]
     },
     "metadata": {},
     "output_type": "display_data"
    },
    {
     "data": {
      "text/html": [
       "3"
      ],
      "text/plain": [
       "<IPython.core.display.HTML object>"
      ]
     },
     "metadata": {},
     "output_type": "display_data"
    },
    {
     "data": {
      "text/html": [
       "4"
      ],
      "text/plain": [
       "<IPython.core.display.HTML object>"
      ]
     },
     "metadata": {},
     "output_type": "display_data"
    },
    {
     "data": {
      "text/html": [
       "5 (sicuramente scritto da una macchina)"
      ],
      "text/plain": [
       "<IPython.core.display.HTML object>"
      ]
     },
     "metadata": {},
     "output_type": "display_data"
    },
    {
     "name": "stdout",
     "output_type": "stream",
     "text": [
      "105\n"
     ]
    },
    {
     "data": {
      "text/html": [
       "<p style=\"text-align: justify;\"><span style=\"font-size: 14px;\">Il testo B segue il testo A. Pensi che B sia stato scritto da una persona o da una macchina?<br><br><strong>A:</strong>&nbsp;Giuseppe Scopelliti si è dimesso. Il governatore della Calabria ha rassegnato le proprie dimissioni a poche ore dalla notizia della condanna a sei anni per abuso d'ufficio e falso in</span></p><hr id=\"null\"><span style=\"font-size: 16px;\"><strong>B:&nbsp;</strong>chiesta. Si tratta di un verdetto su un procedimento che riguarda l'accusa di violenza sessuale contro una giovane donna, avvenuta nell'ottobre 2009. L'attaccamento alla vittima, di cui Scopelliti era fidanzato, si sarebbe verificato nel 2006. In una lettera aperta al giornale, il governatore aveva dichiarato di essersi sottratto a una...</span>"
      ],
      "text/plain": [
       "<IPython.core.display.HTML object>"
      ]
     },
     "metadata": {},
     "output_type": "display_data"
    },
    {
     "data": {
      "text/html": [
       "1 (sicuramente scritto da una persona)"
      ],
      "text/plain": [
       "<IPython.core.display.HTML object>"
      ]
     },
     "metadata": {},
     "output_type": "display_data"
    },
    {
     "data": {
      "text/html": [
       "2"
      ],
      "text/plain": [
       "<IPython.core.display.HTML object>"
      ]
     },
     "metadata": {},
     "output_type": "display_data"
    },
    {
     "data": {
      "text/html": [
       "3"
      ],
      "text/plain": [
       "<IPython.core.display.HTML object>"
      ]
     },
     "metadata": {},
     "output_type": "display_data"
    },
    {
     "data": {
      "text/html": [
       "4"
      ],
      "text/plain": [
       "<IPython.core.display.HTML object>"
      ]
     },
     "metadata": {},
     "output_type": "display_data"
    },
    {
     "data": {
      "text/html": [
       "5 (sicuramente scritto da una macchina)"
      ],
      "text/plain": [
       "<IPython.core.display.HTML object>"
      ]
     },
     "metadata": {},
     "output_type": "display_data"
    },
    {
     "name": "stdout",
     "output_type": "stream",
     "text": [
      "105\n"
     ]
    },
    {
     "data": {
      "text/html": [
       "<p style=\"text-align: justify;\"><span style=\"font-size: 14px;\">Il testo B segue il testo A. Pensi che B sia stato scritto da una persona o da una macchina?<br><br><strong>A:</strong>&nbsp;Q uesta volta l'Ong spagnola ProActiva Open Arms non l'ha fatta franca nell'ennesimo recupero di migranti in mezzo al mare fregandosene delle regole, che aveva sottoscritto, per sbarcarli in Italia.</span></p><hr id=\"null\"><span style=\"font-size: 16px;\"><strong>B:&nbsp;</strong> Pro Activa, infatti, ha rifiutato la richiesta dell'Alto commissariato per gli affari internazionali ong, che chiedeva il rifornimento dell'imbarcazione di 60 migranti in mare. E in compenso ha ottenuto il permesso di attraccare, nel porto di Lampedusa, l'unica barca rimasta in mare, di un'organizzazione umanitaria, e di far sbarcare...</span>"
      ],
      "text/plain": [
       "<IPython.core.display.HTML object>"
      ]
     },
     "metadata": {},
     "output_type": "display_data"
    },
    {
     "data": {
      "text/html": [
       "1 (sicuramente scritto da una persona)"
      ],
      "text/plain": [
       "<IPython.core.display.HTML object>"
      ]
     },
     "metadata": {},
     "output_type": "display_data"
    },
    {
     "data": {
      "text/html": [
       "2"
      ],
      "text/plain": [
       "<IPython.core.display.HTML object>"
      ]
     },
     "metadata": {},
     "output_type": "display_data"
    },
    {
     "data": {
      "text/html": [
       "3"
      ],
      "text/plain": [
       "<IPython.core.display.HTML object>"
      ]
     },
     "metadata": {},
     "output_type": "display_data"
    },
    {
     "data": {
      "text/html": [
       "4"
      ],
      "text/plain": [
       "<IPython.core.display.HTML object>"
      ]
     },
     "metadata": {},
     "output_type": "display_data"
    },
    {
     "data": {
      "text/html": [
       "5 (sicuramente scritto da una macchina)"
      ],
      "text/plain": [
       "<IPython.core.display.HTML object>"
      ]
     },
     "metadata": {},
     "output_type": "display_data"
    },
    {
     "name": "stdout",
     "output_type": "stream",
     "text": [
      "105\n"
     ]
    },
    {
     "data": {
      "text/html": [
       "<p style=\"text-align: justify;\"><span style=\"font-size: 14px;\">Il testo B segue il testo A. Pensi che B sia stato scritto da una persona o da una macchina?<br><br><strong>A:</strong>&nbsp;Il talento di Mr. Renzi. Un ceffone per uno, al momento giusto. Saper scegliere il tempo, ma prima ancora I nemici, punching ball da colpire per prendere punti (percentuali). Un'arte,</span></p><hr id=\"null\"><span style=\"font-size: 16px;\"><strong>B:&nbsp;</strong> in Italia, non molto diffusa, come si può notare dal successo di un modello come \"La Madonna dei Ragazzi\". In un'Europa, dunque, in cui il voto dei giovani è diventato decisivo, l'Italia è un caso. E se i soggetti politici non lo sanno ancora (pur avendo spesso cercato di...</span>"
      ],
      "text/plain": [
       "<IPython.core.display.HTML object>"
      ]
     },
     "metadata": {},
     "output_type": "display_data"
    },
    {
     "data": {
      "text/html": [
       "1 (sicuramente scritto da una persona)"
      ],
      "text/plain": [
       "<IPython.core.display.HTML object>"
      ]
     },
     "metadata": {},
     "output_type": "display_data"
    },
    {
     "data": {
      "text/html": [
       "2"
      ],
      "text/plain": [
       "<IPython.core.display.HTML object>"
      ]
     },
     "metadata": {},
     "output_type": "display_data"
    },
    {
     "data": {
      "text/html": [
       "3"
      ],
      "text/plain": [
       "<IPython.core.display.HTML object>"
      ]
     },
     "metadata": {},
     "output_type": "display_data"
    },
    {
     "data": {
      "text/html": [
       "4"
      ],
      "text/plain": [
       "<IPython.core.display.HTML object>"
      ]
     },
     "metadata": {},
     "output_type": "display_data"
    },
    {
     "data": {
      "text/html": [
       "5 (sicuramente scritto da una macchina)"
      ],
      "text/plain": [
       "<IPython.core.display.HTML object>"
      ]
     },
     "metadata": {},
     "output_type": "display_data"
    },
    {
     "name": "stdout",
     "output_type": "stream",
     "text": [
      "105\n"
     ]
    },
    {
     "data": {
      "text/html": [
       "<p style=\"text-align: justify;\"><span style=\"font-size: 14px;\">Il testo B segue il testo A. Pensi che B sia stato scritto da una persona o da una macchina?<br><br><strong>A:</strong>&nbsp;Un contuso, un espulso (poi \"graziato\"), urla e spintoni in aula. E poi il ministro dell'Istruzione Valeria Fedeli che, seppur seduta ai banchi del governo, si fa male a un</span></p><hr id=\"null\"><span style=\"font-size: 16px;\"><strong>B:&nbsp;</strong> braccio cadendo su una ringhiera tanto che poi deve ricorrere alle cure dell'infermeria. A Palazzo Madama la Lega Nord si schiera contro, anche fisicamente, all'incardinamento del ddl sulla cittadinanza contenente lo ius soli. E subito, ad alzare la voce è il presidente della Camera Laura Boldrini: \"Basta violenza nelle...</span>"
      ],
      "text/plain": [
       "<IPython.core.display.HTML object>"
      ]
     },
     "metadata": {},
     "output_type": "display_data"
    },
    {
     "data": {
      "text/html": [
       "1 (sicuramente scritto da una persona)"
      ],
      "text/plain": [
       "<IPython.core.display.HTML object>"
      ]
     },
     "metadata": {},
     "output_type": "display_data"
    },
    {
     "data": {
      "text/html": [
       "2"
      ],
      "text/plain": [
       "<IPython.core.display.HTML object>"
      ]
     },
     "metadata": {},
     "output_type": "display_data"
    },
    {
     "data": {
      "text/html": [
       "3"
      ],
      "text/plain": [
       "<IPython.core.display.HTML object>"
      ]
     },
     "metadata": {},
     "output_type": "display_data"
    },
    {
     "data": {
      "text/html": [
       "4"
      ],
      "text/plain": [
       "<IPython.core.display.HTML object>"
      ]
     },
     "metadata": {},
     "output_type": "display_data"
    },
    {
     "data": {
      "text/html": [
       "5 (sicuramente scritto da una macchina)"
      ],
      "text/plain": [
       "<IPython.core.display.HTML object>"
      ]
     },
     "metadata": {},
     "output_type": "display_data"
    },
    {
     "name": "stdout",
     "output_type": "stream",
     "text": [
      "105\n"
     ]
    },
    {
     "data": {
      "text/html": [
       "<p style=\"text-align: justify;\"><span style=\"font-size: 14px;\">Il testo B segue il testo A. Pensi che B sia stato scritto da una persona o da una macchina?<br><br><strong>A:</strong>&nbsp;Vladimir Putin può dormire sonni tranquilli. Se strapperà la Crimea ai «rivoluzionari» di Kiev e la restituirà al 60 per cento di «crimeani» russi nessuno muoverà un dito per fermarlo.</span></p><hr id=\"null\"><span style=\"font-size: 16px;\"><strong>B:&nbsp;</strong> A 161 anni della guerra combattuta da un embrione d'Italia al fianco degli imperi di Parigi, Vienna e Londra nessuno in Europa o dall'altra parte dell'Atlantico sembra ansioso di contrapporsi al nuovo zar. Anche perché se per Vladimir la sfida è fondamentale per affermare la rinata volontà di potenza...</span>"
      ],
      "text/plain": [
       "<IPython.core.display.HTML object>"
      ]
     },
     "metadata": {},
     "output_type": "display_data"
    },
    {
     "data": {
      "text/html": [
       "1 (sicuramente scritto da una persona)"
      ],
      "text/plain": [
       "<IPython.core.display.HTML object>"
      ]
     },
     "metadata": {},
     "output_type": "display_data"
    },
    {
     "data": {
      "text/html": [
       "2"
      ],
      "text/plain": [
       "<IPython.core.display.HTML object>"
      ]
     },
     "metadata": {},
     "output_type": "display_data"
    },
    {
     "data": {
      "text/html": [
       "3"
      ],
      "text/plain": [
       "<IPython.core.display.HTML object>"
      ]
     },
     "metadata": {},
     "output_type": "display_data"
    },
    {
     "data": {
      "text/html": [
       "4"
      ],
      "text/plain": [
       "<IPython.core.display.HTML object>"
      ]
     },
     "metadata": {},
     "output_type": "display_data"
    },
    {
     "data": {
      "text/html": [
       "5 (sicuramente scritto da una macchina)"
      ],
      "text/plain": [
       "<IPython.core.display.HTML object>"
      ]
     },
     "metadata": {},
     "output_type": "display_data"
    }
   ],
   "source": [
    "for _, i in background_dfs[1].iterrows():\n",
    "    print(len(i[\"Testo domanda\"].split(\" \")))\n",
    "    display(HTML(i[\"Testo domanda\"]))\n",
    "    for idx in range(5):\n",
    "        idx += 1\n",
    "        display(HTML(str(i[f\"Testo risposta {idx}\"])))"
   ]
  }
 ],
 "metadata": {
  "kernelspec": {
   "display_name": "evalita",
   "language": "python",
   "name": "python3"
  },
  "language_info": {
   "codemirror_mode": {
    "name": "ipython",
    "version": 3
   },
   "file_extension": ".py",
   "mimetype": "text/x-python",
   "name": "python",
   "nbconvert_exporter": "python",
   "pygments_lexer": "ipython3",
   "version": "3.8.16"
  },
  "orig_nbformat": 4
 },
 "nbformat": 4,
 "nbformat_minor": 2
}
