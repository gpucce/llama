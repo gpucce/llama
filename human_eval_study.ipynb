{
 "cells": [
  {
   "cell_type": "code",
   "execution_count": 1,
   "metadata": {},
   "outputs": [],
   "source": [
    "import matplotlib.pyplot as plt\n",
    "import pandas as pd\n",
    "import numpy as np\n",
    "from scipy.stats import pearsonr\n",
    "from sklearn.metrics import accuracy_score, cohen_kappa_score\n",
    "from IPython.display import HTML, display\n",
    "import itertools\n",
    "from statsmodels.stats.inter_rater import fleiss_kappa, aggregate_raters\n",
    "import seaborn as sns\n",
    "from pathlib import Path\n",
    "dir2dir = {\n",
    "    \"7b_ps_df1\": \"llama_7b_pretrained_shorter\",\n",
    "    \"7b_fts_df1\": \"llama_7b_fine_tuned_shorter\",\n",
    "    \"65b_ps_df1\": \"llama_65b_pretrained_shorter\",\n",
    "    \"65b_fts_df1\": \"llama_65b_fine_tuned_shorter\"\n",
    "}"
   ]
  },
  {
   "cell_type": "code",
   "execution_count": 2,
   "metadata": {},
   "outputs": [
    {
     "name": "stderr",
     "output_type": "stream",
     "text": [
      "/tmp/ipykernel_82945/474202285.py:8: FutureWarning: In a future version, `df.iloc[:, i] = newvals` will attempt to set the values inplace instead of always setting a new array. To retain the old behavior, use either `df[df.columns[i]] = newvals` or, if columns are non-unique, `df.isetitem(i, newvals)`\n",
      "  full_df.loc[:, q_cols] = full_df.loc[:, q_cols].applymap(\n"
     ]
    }
   ],
   "source": [
    "_full_df = pd.read_csv(\"./llama/human_eval/svolgimenti/Svolgimenti_tutti.csv\")\n",
    "\n",
    "# sort data by questionary\n",
    "full_df = _full_df.sort_values(by=[\"Questionario\", \"Data di inizio\"])\n",
    "\n",
    "# answers to float\n",
    "q_cols = [f\"Domanda {i}\" for i in range(1, 21)]\n",
    "full_df.loc[:, q_cols] = full_df.loc[:, q_cols].applymap(\n",
    "    lambda x: float(\n",
    "        x.replace(\"Risposta \", \"\")\n",
    "        .replace(\" (sicuramente scritto da una macchina)\", \"\")\n",
    "        .replace(\" (sicuramente scritto da una persona)\", \"\")\n",
    "    ) if type(x) == str else x\n",
    ")\n",
    "\n",
    "full_df = full_df.reset_index(drop=True)\n",
    "full_df = full_df.loc[full_df.Stato == \"Completato\", :]\n",
    "full_df = full_df.loc[full_df.filter(regex=\"Domanda*\").notna().all(axis=1), :]\n",
    "full_df = full_df.loc[full_df.loc[:, \"Domanda 7\"] > 3, :]"
   ]
  },
  {
   "cell_type": "code",
   "execution_count": 3,
   "metadata": {},
   "outputs": [],
   "source": [
    "mask_7b_pretrain = full_df.Questionario.str.contains(\"7b_pretrained\")\n",
    "mask_7b_finetune = full_df.Questionario.str.contains(\"7b_fine_tuned\")\n",
    "mask_65b_pretrain = full_df.Questionario.str.contains(\"65b_pretrained\")\n",
    "mask_65b_finetune = full_df.Questionario.str.contains(\"65b_fine_tuned\")\n",
    "\n",
    "df_7b_pretrain = full_df.loc[mask_7b_pretrain, :].copy()\n",
    "df_7b_finetune = full_df.loc[mask_7b_finetune, :].copy()\n",
    "df_65b_pretrain = full_df.loc[mask_65b_pretrain, :].copy()\n",
    "df_65b_finetune = full_df.loc[mask_65b_finetune, :].copy()"
   ]
  },
  {
   "cell_type": "code",
   "execution_count": 4,
   "metadata": {},
   "outputs": [],
   "source": [
    "# for i in range(5):\n",
    "#     print(processed_pretrain_65b_df.loc[:, i].isna().sum())\n",
    "# processed_pretrain_65b_df.loc[:, 3].to_list()\n",
    "# df_65b_pretrain"
   ]
  },
  {
   "cell_type": "code",
   "execution_count": 5,
   "metadata": {},
   "outputs": [],
   "source": [
    "def normalize(x):\n",
    "    return (x - x.mean()) / x.std()\n",
    "\n",
    "def preprocess_df(df):\n",
    "    new_bkg_dfs = []\n",
    "    _new_dfs = []\n",
    "    _dfs = df.groupby(\"Questionario\")\n",
    "    _qs = []\n",
    "    for idx, (q_name, _df) in enumerate(_dfs):\n",
    "        background_df = pd.read_csv(q_name, index_col=0)\n",
    "        background_df.index = [f\"Domanda {idx * 20 + i}\" for i in range(1, 21)]\n",
    "        no_control_questions = [f\"Domanda {idx * 20 + i}\" for i in range(1, 21) if i != 7]\n",
    "        background_df = background_df.loc[no_control_questions, :]\n",
    "        _df = (\n",
    "            _df.filter(regex=\"Domanda*\")\n",
    "            .rename({f\"Domanda {i}\": f\"Domanda {idx * 20 + i}\" for i in range(1, 21)}, axis=1)\n",
    "            .loc[:, no_control_questions].T\n",
    "        )\n",
    "        _new_dfs.append(_df)\n",
    "        new_bkg_dfs.append(background_df)\n",
    "        for i in range(_df.shape[0]):\n",
    "            _qs.append(q_name)\n",
    "\n",
    "    background_df = pd.concat(new_bkg_dfs, axis=0)\n",
    "    _new_dfs = [pd.DataFrame([i[~np.isnan(i)] for i in _df.values]) for _df in _new_dfs]\n",
    "    _df = pd.concat(_new_dfs, axis=0)\n",
    "    _df.loc[:, \"Questionario\"] = _qs\n",
    "    assert _df.shape[0] == background_df.shape[0], f\"{_df.shape[0]} {background_df.shape[0]}\"\n",
    "    return _df, background_df\n",
    "\n",
    "def get_metrics_df(_df, background_df):\n",
    "    _metrics_df = pd.DataFrame()\n",
    "    for col_idx, col in enumerate(_df.columns):\n",
    "        if col == \"Questionario\":\n",
    "            continue\n",
    "        if _df.loc[:, col].notna().all():\n",
    "            _metrics_df.loc[:, f\"player {col_idx}\"] = _df.loc[:, col].reset_index(drop=True)\n",
    "    _metrics_df.loc[:, \"avg_pred\"] = _df.mean(axis=1, numeric_only=True).reset_index(drop=True)\n",
    "    _metrics_df.loc[:, \"bool_pred\"] = _metrics_df[\"avg_pred\"] <= 3\n",
    "    _metrics_df.loc[:, \"bool_scaled_pred\"] = _metrics_df[\"avg_pred\"] <= _metrics_df[\"avg_pred\"].mean()\n",
    "    _metrics_df.loc[:, \"high_pred\"] = _df.max(axis=1, numeric_only=True).reset_index(drop=True)\n",
    "    _metrics_df.loc[:, \"bool_high_pred\"] = _metrics_df.high_pred <= 3\n",
    "    _metrics_df.loc[:, \"low_pred\"] = _df.min(axis=1, numeric_only=True).reset_index(drop=True)\n",
    "    _metrics_df.loc[:, \"bool_low_pred\"] = _metrics_df.low_pred <= 3\n",
    "    _metrics_df.loc[:, \"bool_is_human\"] = background_df.is_human.reset_index(drop=True)\n",
    "    _metrics_df.loc[:, \"is_human\"] = _metrics_df[\"bool_is_human\"].apply(int)\n",
    "    _metrics_df.loc[:, \"missed\"] = _metrics_df[\"bool_scaled_pred\"] != _metrics_df[\"is_human\"]\n",
    "    _metrics_df.loc[:, \"catched\"] = _metrics_df[\"bool_scaled_pred\"] == _metrics_df[\"is_human\"]\n",
    "    _metrics_df.loc[:, \"Questionario\"] = _df.loc[:, \"Questionario\"].values\n",
    "    return _metrics_df\n",
    "\n",
    "def compute_acc(metrics_df):\n",
    "    return {\n",
    "       \"scaled mean\": np.round(accuracy_score(metrics_df[\"bool_is_human\"], metrics_df[\"bool_scaled_pred\"]), 3) * 100,\n",
    "       \"mean\": np.round(accuracy_score(metrics_df[\"bool_is_human\"], metrics_df[\"bool_pred\"]), 3) * 100,\n",
    "    }\n",
    "\n",
    "def compute_all_acc(metrics_df):\n",
    "    n_players = metrics_df.filter(regex=\"player*\").shape[1]\n",
    "    all_cohens = []\n",
    "    quest_scores = {}\n",
    "    quest_scores[\"accuracy\"] = compute_acc(metrics_df)\n",
    "    players_scores = {}\n",
    "    all_metrics_df = metrics_df.groupby(\"Questionario\")\n",
    "    acc_x = {}\n",
    "    for idx, (_, _metrics_df) in enumerate(all_metrics_df):\n",
    "        players_scores[f\"Chunk {idx}\"] = {}\n",
    "        # quest_scores[f\"Chunk {idx}\"] = {}\n",
    "        for key, val in compute_acc(_metrics_df).items():\n",
    "            if key in acc_x:\n",
    "                acc_x[key].append(val)\n",
    "            else:\n",
    "                acc_x[key] = [val]\n",
    "        for i in range(n_players):\n",
    "            acc = np.round(\n",
    "                accuracy_score(\n",
    "                    _metrics_df.loc[:, f\"bool_is_human\"],\n",
    "                    _metrics_df.loc[:, f\"player {i}\"] <= 3.0\n",
    "                ),\n",
    "                3\n",
    "            ) * 100\n",
    "\n",
    "            players_scores[f\"Chunk {idx}\"][i] = {\"accuracy\": acc}\n",
    "        players_scores[f\"Chunk {idx}\"][\"std\"] = np.std(\n",
    "            [j[\"accuracy\"] for j in players_scores[f\"Chunk {idx}\"].values()]\n",
    "        )\n",
    "        all_data = np.zeros((n_players, n_players))\n",
    "        for i, j in itertools.combinations(range(n_players), r=2):\n",
    "            all_data[i,j] = cohen_kappa_score(\n",
    "                _metrics_df.loc[:, f\"player {i}\"] <= 3,\n",
    "                _metrics_df.loc[:, f\"player {j}\"] <= 3\n",
    "            )\n",
    "        all_cohens.append(all_data)\n",
    "    global_cohen = cohen_kappa_score(\n",
    "            metrics_df.loc[:, f\"player {i}\"] <= metrics_df.loc[:, f\"player {i}\"].mean(),\n",
    "            metrics_df.loc[:, f\"player {j}\"] <= metrics_df.loc[:, f\"player {i}\"].mean()\n",
    "    )\n",
    "    quest_scores[\"std\"] = {key:np.std(val) for key, val in acc_x.items()}\n",
    "    return quest_scores, players_scores, all_cohens\n",
    "\n",
    "def plot_cohen_kappa(all_cohens):\n",
    "    fig, ax = plt.subplots(1, 5, figsize=(20, 3))\n",
    "    for i in range(5):\n",
    "        sns.heatmap(\n",
    "            all_cohens[i],\n",
    "            annot=True,\n",
    "            ax=ax[i]\n",
    "        )\n",
    "\n",
    "def _style_for_latex(scores, training):\n",
    "    df = pd.DataFrame.from_dict(scores).reset_index(names=\"metric\")\n",
    "    df.loc[:, \"model\"] = [training for _ in range(df.shape[0])]\n",
    "    df = df.set_index([\"model\", \"metric\"])\n",
    "    return df\n",
    "\n",
    "def style_for_latex(scores, trainings):\n",
    "    dfs = [_style_for_latex(score, training) for score, training in zip(scores, trainings)]\n",
    "    df = pd.concat(dfs, axis=0)\n",
    "    return df"
   ]
  },
  {
   "cell_type": "code",
   "execution_count": 45,
   "metadata": {},
   "outputs": [],
   "source": [
    "processed_pretrain_7b_df, background_pretrain_7b_df = preprocess_df(df_7b_pretrain)\n",
    "pretrain_metrics_7b_df = get_metrics_df(processed_pretrain_7b_df, background_pretrain_7b_df)\n",
    "pretrain_7b_quest_scores, pretrain_7b_players_scores, pretrain_7b_all_cohens = compute_all_acc(pretrain_metrics_7b_df)\n",
    "\n",
    "processed_finetune_7b_df, background_finetune_7b_df = preprocess_df(df_7b_finetune)\n",
    "finetune_metrics_7b_df = get_metrics_df(processed_finetune_7b_df, background_finetune_7b_df)\n",
    "finetune_7b_quest_scores, finetune_7b_players_scores, finetune_7b_all_cohens = compute_all_acc(finetune_metrics_7b_df)\n",
    "\n",
    "processed_pretrain_65b_df, background_pretrain_65b_df = preprocess_df(df_65b_pretrain)\n",
    "pretrain_metrics_65b_df = get_metrics_df(processed_pretrain_65b_df, background_pretrain_65b_df)\n",
    "pretrain_65b_quest_scores, pretrain_65b_players_scores, pretrain_65b_all_cohens = compute_all_acc(pretrain_metrics_65b_df)\n",
    "\n",
    "processed_finetune_65b_df, background_finetune_65b_df = preprocess_df(df_65b_finetune)\n",
    "finetune_metrics_65b_df = get_metrics_df(processed_finetune_65b_df, background_finetune_65b_df)\n",
    "finetune_65b_quest_scores, finetune_65b_players_scores, finetune_65b_all_cohens = compute_all_acc(finetune_metrics_65b_df)"
   ]
  },
  {
   "cell_type": "code",
   "execution_count": 64,
   "metadata": {},
   "outputs": [
    {
     "data": {
      "text/html": [
       "<div>\n",
       "<style scoped>\n",
       "    .dataframe tbody tr th:only-of-type {\n",
       "        vertical-align: middle;\n",
       "    }\n",
       "\n",
       "    .dataframe tbody tr th {\n",
       "        vertical-align: top;\n",
       "    }\n",
       "\n",
       "    .dataframe thead th {\n",
       "        text-align: right;\n",
       "    }\n",
       "</style>\n",
       "<table border=\"1\" class=\"dataframe\">\n",
       "  <thead>\n",
       "    <tr style=\"text-align: right;\">\n",
       "      <th></th>\n",
       "      <th></th>\n",
       "      <th>accuracy</th>\n",
       "      <th>std</th>\n",
       "    </tr>\n",
       "    <tr>\n",
       "      <th>model</th>\n",
       "      <th>metric</th>\n",
       "      <th></th>\n",
       "      <th></th>\n",
       "    </tr>\n",
       "  </thead>\n",
       "  <tbody>\n",
       "    <tr>\n",
       "      <th rowspan=\"2\" valign=\"top\">pretrain</th>\n",
       "      <th>scaled mean</th>\n",
       "      <td>85.3</td>\n",
       "      <td>6.149992</td>\n",
       "    </tr>\n",
       "    <tr>\n",
       "      <th>mean</th>\n",
       "      <td>82.1</td>\n",
       "      <td>7.130330</td>\n",
       "    </tr>\n",
       "    <tr>\n",
       "      <th rowspan=\"2\" valign=\"top\">finetune</th>\n",
       "      <th>scaled mean</th>\n",
       "      <td>73.7</td>\n",
       "      <td>8.773004</td>\n",
       "    </tr>\n",
       "    <tr>\n",
       "      <th>mean</th>\n",
       "      <td>69.5</td>\n",
       "      <td>12.173644</td>\n",
       "    </tr>\n",
       "    <tr>\n",
       "      <th rowspan=\"2\" valign=\"top\">pretrain</th>\n",
       "      <th>scaled mean</th>\n",
       "      <td>73.7</td>\n",
       "      <td>4.695785</td>\n",
       "    </tr>\n",
       "    <tr>\n",
       "      <th>mean</th>\n",
       "      <td>74.7</td>\n",
       "      <td>6.136253</td>\n",
       "    </tr>\n",
       "    <tr>\n",
       "      <th rowspan=\"2\" valign=\"top\">finetune</th>\n",
       "      <th>scaled mean</th>\n",
       "      <td>66.3</td>\n",
       "      <td>17.188764</td>\n",
       "    </tr>\n",
       "    <tr>\n",
       "      <th>mean</th>\n",
       "      <td>63.2</td>\n",
       "      <td>11.041123</td>\n",
       "    </tr>\n",
       "  </tbody>\n",
       "</table>\n",
       "</div>"
      ],
      "text/plain": [
       "                      accuracy        std\n",
       "model    metric                          \n",
       "pretrain scaled mean      85.3   6.149992\n",
       "         mean             82.1   7.130330\n",
       "finetune scaled mean      73.7   8.773004\n",
       "         mean             69.5  12.173644\n",
       "pretrain scaled mean      73.7   4.695785\n",
       "         mean             74.7   6.136253\n",
       "finetune scaled mean      66.3  17.188764\n",
       "         mean             63.2  11.041123"
      ]
     },
     "execution_count": 64,
     "metadata": {},
     "output_type": "execute_result"
    }
   ],
   "source": [
    "scores = [pretrain_7b_quest_scores, finetune_7b_quest_scores, pretrain_65b_quest_scores, finetune_65b_quest_scores]\n",
    "trainings = [\"pretrain\", \"finetune\", \"pretrain\", \"finetune\"]\n",
    "df = style_for_latex(scores, trainings)\n",
    "df"
   ]
  },
  {
   "cell_type": "code",
   "execution_count": 60,
   "metadata": {},
   "outputs": [
    {
     "name": "stdout",
     "output_type": "stream",
     "text": [
      "avg cohen 0.3666467816337317\n",
      "fleiss 0.36459303315210284\n",
      "avg cohen 0.2224176294331277\n",
      "fleiss 0.22306730690593854\n",
      "avg cohen 0.33584722966515984\n",
      "fleiss 0.33014216922724093\n",
      "avg cohen 0.21266000463275017\n",
      "fleiss 0.20568561872909702\n"
     ]
    }
   ],
   "source": [
    "global_cohens = []\n",
    "fleiss = []\n",
    "for df in [pretrain_metrics_7b_df, finetune_metrics_7b_df, pretrain_metrics_65b_df, finetune_metrics_65b_df]:\n",
    "    cohens = []\n",
    "    fleiss.append(\n",
    "        fleiss_kappa(\n",
    "            aggregate_raters(\n",
    "                (df.filter(regex=\"player*\") <= 3).astype(int).values\n",
    "            )[0]\n",
    "        )\n",
    "    )\n",
    "    n_players = df.filter(regex=\"player*\").shape[1]\n",
    "    for i,j in itertools.combinations(range(n_players), r=2):\n",
    "        # print(i, j)\n",
    "        cohens.append(cohen_kappa_score(\n",
    "            # (df.iloc[:, i] <= df.iloc[:, i].median()).astype(int),\n",
    "            # (df.iloc[:, j] <= df.iloc[:, j].median()).astype(int)\n",
    "            (df.iloc[:, i] <= 3).astype(int),\n",
    "            (df.iloc[:, j] <= 3).astype(int)\n",
    "        ))\n",
    "    global_cohens.append(np.mean(cohens))\n",
    "    print(\"avg cohen\", np.mean(cohens))\n",
    "    print(\"fleiss\", fleiss[-1])"
   ]
  },
  {
   "cell_type": "code",
   "execution_count": 79,
   "metadata": {},
   "outputs": [
    {
     "data": {
      "text/plain": [
       "'0'"
      ]
     },
     "metadata": {},
     "output_type": "display_data"
    },
    {
     "data": {
      "text/plain": [
       "'First'"
      ]
     },
     "metadata": {},
     "output_type": "display_data"
    },
    {
     "data": {
      "text/html": [
       "False"
      ],
      "text/plain": [
       "<IPython.core.display.HTML object>"
      ]
     },
     "metadata": {},
     "output_type": "display_data"
    },
    {
     "data": {
      "text/html": [
       "<p style=\"text-align: justify;\"><span style=\"font-size: 14px;\">Il testo B segue il testo A. Pensi che B sia stato scritto da una persona o da una macchina?<br><br><strong>A:</strong>&nbsp;C'è della perseveranza diabolica, nella telefonata che Matteo Renzi ha fatto l'altro pomeriggio al premier Gentiloni sull'aereo che lo riportava a Roma. Ce l'aveva con il ministro Padoan, il segretario</span></p><hr id=\"null\"><span style=\"font-size: 16px;\"><strong>B:&nbsp;</strong> del partito Pd non voleva che quest'ultimo partecipi all'incontro con il premier, oggi alle ore 13, sullo stato di avanzamento del rapporto con il Mezzogiorno. Tu sei l'unico a essere capace di parlare, ha detto Renzi a Padoan. Aveva ragione quando ha detto che non dovrebbe essere una questione...</span>"
      ],
      "text/plain": [
       "<IPython.core.display.HTML object>"
      ]
     },
     "metadata": {},
     "output_type": "display_data"
    },
    {
     "data": {
      "text/plain": [
       "'Second'"
      ]
     },
     "metadata": {},
     "output_type": "display_data"
    },
    {
     "data": {
      "text/html": [
       "True"
      ],
      "text/plain": [
       "<IPython.core.display.HTML object>"
      ]
     },
     "metadata": {},
     "output_type": "display_data"
    },
    {
     "data": {
      "text/html": [
       "<p style=\"text-align: justify;\"><span style=\"font-size: 14px;\">Il testo B segue il testo A. Pensi che B sia stato scritto da una persona o da una macchina?<br><br><strong>A:</strong>&nbsp;C'è della perseveranza diabolica, nella telefonata che Matteo Renzi ha fatto l'altro pomeriggio al premier Gentiloni sull'aereo che lo riportava a Roma. Ce l'aveva con il ministro Padoan, il segretario</span></p><hr id=\"null\"><span style=\"font-size: 16px;\"><strong>B:&nbsp;</strong> Pd, e il suo ordine perentorio sulla vicenda bancaria sarebbe suonato a mo' d'ultimatum. «Digli di tirare fuori I soldi, altrimenti il governo finisce qui». Vera o meno che sia la ricostruzione nel complesso «salvataggio» delle banche venete (Veneto e Vicenza), poco importa. Perché quello del sistema bancario resta...</span>"
      ],
      "text/plain": [
       "<IPython.core.display.HTML object>"
      ]
     },
     "metadata": {},
     "output_type": "display_data"
    },
    {
     "data": {
      "text/plain": [
       "'1'"
      ]
     },
     "metadata": {},
     "output_type": "display_data"
    },
    {
     "data": {
      "text/plain": [
       "'First'"
      ]
     },
     "metadata": {},
     "output_type": "display_data"
    },
    {
     "data": {
      "text/html": [
       "False"
      ],
      "text/plain": [
       "<IPython.core.display.HTML object>"
      ]
     },
     "metadata": {},
     "output_type": "display_data"
    },
    {
     "data": {
      "text/html": [
       "<p style=\"text-align: justify;\"><span style=\"font-size: 14px;\">Il testo B segue il testo A. Pensi che B sia stato scritto da una persona o da una macchina?<br><br><strong>A:</strong>&nbsp;Barcellona L'autunno caldo dello scontento, ieri, ha dato il primo assaggio nella capitale della Catalogna, appena uscita contenta e ubriaca dalla sua principale festività, la Mercè, che celebra la madonna</span></p><hr id=\"null\"><span style=\"font-size: 16px;\"><strong>B:&nbsp;</strong> patrona e la rinascita della città. Lo scontento dei giovani catalani è contro il Governo di Madrid e la politica che il premier Mariano Rajoy sta conducendo, anche contro Barcellona, che da mesi è criticata per le sue scelte economiche e per le spese esagerate per la festa della...</span>"
      ],
      "text/plain": [
       "<IPython.core.display.HTML object>"
      ]
     },
     "metadata": {},
     "output_type": "display_data"
    },
    {
     "data": {
      "text/plain": [
       "'Second'"
      ]
     },
     "metadata": {},
     "output_type": "display_data"
    },
    {
     "data": {
      "text/html": [
       "True"
      ],
      "text/plain": [
       "<IPython.core.display.HTML object>"
      ]
     },
     "metadata": {},
     "output_type": "display_data"
    },
    {
     "data": {
      "text/html": [
       "<p style=\"text-align: justify;\"><span style=\"font-size: 14px;\">Il testo B segue il testo A. Pensi che B sia stato scritto da una persona o da una macchina?<br><br><strong>A:</strong>&nbsp;Barcellona L'autunno caldo dello scontento, ieri, ha dato il primo assaggio nella capitale della Catalogna, appena uscita contenta e ubriaca dalla sua principale festività, la Mercè, che celebra la madonna</span></p><hr id=\"null\"><span style=\"font-size: 16px;\"><strong>B:&nbsp;</strong> protettrice. Due manifestazioni, prive di punti in comune, si sono trasformate in due falangi contrapposte e inconciliabili: da una parte, gli agenti del sindacato Jusapol della Policia Nacional e della Guardia Civil che chiedevano a Madrid aumenti salariali, dall'altra, circa diecimila membri del Cdr, il Comitato di Difesa della...</span>"
      ],
      "text/plain": [
       "<IPython.core.display.HTML object>"
      ]
     },
     "metadata": {},
     "output_type": "display_data"
    },
    {
     "data": {
      "text/plain": [
       "'2'"
      ]
     },
     "metadata": {},
     "output_type": "display_data"
    },
    {
     "data": {
      "text/plain": [
       "'First'"
      ]
     },
     "metadata": {},
     "output_type": "display_data"
    },
    {
     "data": {
      "text/html": [
       "True"
      ],
      "text/plain": [
       "<IPython.core.display.HTML object>"
      ]
     },
     "metadata": {},
     "output_type": "display_data"
    },
    {
     "data": {
      "text/html": [
       "<p style=\"text-align: justify;\"><span style=\"font-size: 14px;\">Il testo B segue il testo A. Pensi che B sia stato scritto da una persona o da una macchina?<br><br><strong>A:</strong>&nbsp;\"L’ Onu è pronta a fare la sua parte alla conclusione del vertice europeo, ma il segretariato non ha in agenda alcuna azione militare, anche se ci possono essere alcune</span></p><hr id=\"null\"><span style=\"font-size: 16px;\"><strong>B:&nbsp;</strong> similarità con l’operazione in Somalia \". In una intervista a Qn il vicesegretario generale dell’Onu Jan Eliasson apre \"all'uso della forza\" per fermare gli sbarchi dei clandestini ed evitare nuove stragi nel Mediterraneo. Ma, al tempo stesso, sottolinea \"una differenza qualitativa\" con l’operazione in Somalia: \"L'attività dei pirati era...</span>"
      ],
      "text/plain": [
       "<IPython.core.display.HTML object>"
      ]
     },
     "metadata": {},
     "output_type": "display_data"
    },
    {
     "data": {
      "text/plain": [
       "'Second'"
      ]
     },
     "metadata": {},
     "output_type": "display_data"
    },
    {
     "data": {
      "text/html": [
       "False"
      ],
      "text/plain": [
       "<IPython.core.display.HTML object>"
      ]
     },
     "metadata": {},
     "output_type": "display_data"
    },
    {
     "data": {
      "text/html": [
       "<p style=\"text-align: justify;\"><span style=\"font-size: 14px;\">Il testo B segue il testo A. Pensi che B sia stato scritto da una persona o da una macchina?<br><br><strong>A:</strong>&nbsp;\"L’ Onu è pronta a fare la sua parte alla conclusione del vertice europeo, ma il segretariato non ha in agenda alcuna azione militare, anche se ci possono essere alcune</span></p><hr id=\"null\"><span style=\"font-size: 16px;\"><strong>B:&nbsp;</strong> iniziative sul campo degli aiuti umanitari\", ha affermato un portavoce dell’organizzazione internazionale. Per il segretario generale, \"l’ Italia deve avere una posizione di leader ed essere la prima a proporre una risposta alla crisi europea, visto anche che l’ Italia ha avuto un ruolo molto importante nei negoziati sul...</span>"
      ],
      "text/plain": [
       "<IPython.core.display.HTML object>"
      ]
     },
     "metadata": {},
     "output_type": "display_data"
    },
    {
     "data": {
      "text/plain": [
       "'3'"
      ]
     },
     "metadata": {},
     "output_type": "display_data"
    },
    {
     "data": {
      "text/plain": [
       "'First'"
      ]
     },
     "metadata": {},
     "output_type": "display_data"
    },
    {
     "data": {
      "text/html": [
       "False"
      ],
      "text/plain": [
       "<IPython.core.display.HTML object>"
      ]
     },
     "metadata": {},
     "output_type": "display_data"
    },
    {
     "data": {
      "text/html": [
       "<p style=\"text-align: justify;\"><span style=\"font-size: 14px;\">Il testo B segue il testo A. Pensi che B sia stato scritto da una persona o da una macchina?<br><br><strong>A:</strong>&nbsp;«M a quale campagna acquisti! Se alla mia porta c'è la fila di esponenti di Ncd pronti a tornare in Forza Italia non è certo colpa mia.... Invece di lanciare</span></p><hr id=\"null\"><span style=\"font-size: 16px;\"><strong>B:&nbsp;</strong>«M a quale campagna acquisti! Se alla mia porta c'è la fila di esponenti di Ncd pronti a tornare in Forza Italia non è certo colpa mia..... Invece di lanciare defezioni a fette io vorrei vedere qualcuno che si assuma la responsabilità di farla franca. Invece di lanciarmele qui, se...</span>"
      ],
      "text/plain": [
       "<IPython.core.display.HTML object>"
      ]
     },
     "metadata": {},
     "output_type": "display_data"
    },
    {
     "data": {
      "text/plain": [
       "'Second'"
      ]
     },
     "metadata": {},
     "output_type": "display_data"
    },
    {
     "data": {
      "text/html": [
       "True"
      ],
      "text/plain": [
       "<IPython.core.display.HTML object>"
      ]
     },
     "metadata": {},
     "output_type": "display_data"
    },
    {
     "data": {
      "text/html": [
       "<p style=\"text-align: justify;\"><span style=\"font-size: 14px;\">Il testo B segue il testo A. Pensi che B sia stato scritto da una persona o da una macchina?<br><br><strong>A:</strong>&nbsp;«M a quale campagna acquisti! Se alla mia porta c'è la fila di esponenti di Ncd pronti a tornare in Forza Italia non è certo colpa mia.... Invece di lanciare</span></p><hr id=\"null\"><span style=\"font-size: 16px;\"><strong>B:&nbsp;</strong>«M a quale campagna acquisti! Se alla mia porta c'è la fila di esponenti di Ncd pronti a tornare in Forza Italia non è certo colpa mia..... Invece di lanciare accuse infondate, qualcuno dovrebbe farsi un esame di coscienza». Silvio Berlusconi non ci gira troppo intorno e a chi ha...</span>"
      ],
      "text/plain": [
       "<IPython.core.display.HTML object>"
      ]
     },
     "metadata": {},
     "output_type": "display_data"
    },
    {
     "data": {
      "text/plain": [
       "'4'"
      ]
     },
     "metadata": {},
     "output_type": "display_data"
    },
    {
     "data": {
      "text/plain": [
       "'First'"
      ]
     },
     "metadata": {},
     "output_type": "display_data"
    },
    {
     "data": {
      "text/html": [
       "True"
      ],
      "text/plain": [
       "<IPython.core.display.HTML object>"
      ]
     },
     "metadata": {},
     "output_type": "display_data"
    },
    {
     "data": {
      "text/html": [
       "<p style=\"text-align: justify;\"><span style=\"font-size: 14px;\">Il testo B segue il testo A. Pensi che B sia stato scritto da una persona o da una macchina?<br><br><strong>A:</strong>&nbsp;L’ultima frontiera delle fake news è molto più quotidiana di quanto si possa immaginare. La necessità delle famiglie di ottenere informazioni per fronteggiare I problemi causati dall’ondata di freddo che</span></p><hr id=\"null\"><span style=\"font-size: 16px;\"><strong>B:&nbsp;</strong> ha assediato l’Italia ha prodotto un nuovo fenomeno che ha ingannato molti cittadini e costretto le amministrazioni comunali a intervenire pubblicamente per ristabilire la verità. Girano sui gruppi locali di Facebook e su quelli di Whatsapp, I fake che replicano ordinanze comunali di chiusura delle scuole per il maltempo...</span>"
      ],
      "text/plain": [
       "<IPython.core.display.HTML object>"
      ]
     },
     "metadata": {},
     "output_type": "display_data"
    },
    {
     "data": {
      "text/plain": [
       "'Second'"
      ]
     },
     "metadata": {},
     "output_type": "display_data"
    },
    {
     "data": {
      "text/html": [
       "False"
      ],
      "text/plain": [
       "<IPython.core.display.HTML object>"
      ]
     },
     "metadata": {},
     "output_type": "display_data"
    },
    {
     "data": {
      "text/html": [
       "<p style=\"text-align: justify;\"><span style=\"font-size: 14px;\">Il testo B segue il testo A. Pensi che B sia stato scritto da una persona o da una macchina?<br><br><strong>A:</strong>&nbsp;L’ultima frontiera delle fake news è molto più quotidiana di quanto si possa immaginare. La necessità delle famiglie di ottenere informazioni per fronteggiare I problemi causati dall’ondata di freddo che</span></p><hr id=\"null\"><span style=\"font-size: 16px;\"><strong>B:&nbsp;</strong> sta colpendo gli Stati Uniti e il Canada ha attratto gli chef delle fake news verso “notizie” sugli Stati Uniti che non hanno nulla a che fare con la politica. Caratteristica principale di queste notizie è il fatto di essere contrapposte a un’altra notizia vera e di interpretarla in...</span>"
      ],
      "text/plain": [
       "<IPython.core.display.HTML object>"
      ]
     },
     "metadata": {},
     "output_type": "display_data"
    },
    {
     "data": {
      "text/plain": [
       "'5'"
      ]
     },
     "metadata": {},
     "output_type": "display_data"
    },
    {
     "data": {
      "text/plain": [
       "'First'"
      ]
     },
     "metadata": {},
     "output_type": "display_data"
    },
    {
     "data": {
      "text/html": [
       "False"
      ],
      "text/plain": [
       "<IPython.core.display.HTML object>"
      ]
     },
     "metadata": {},
     "output_type": "display_data"
    },
    {
     "data": {
      "text/html": [
       "<p style=\"text-align: justify;\"><span style=\"font-size: 14px;\">Il testo B segue il testo A. Pensi che B sia stato scritto da una persona o da una macchina?<br><br><strong>A:</strong>&nbsp;In centro Italia continuano le scosse e il numero dei morti sale. Paesi afoni e distrutti, palazzi accartocciati, mozziconi di chiese, rovine sinistre che fissano le piazze. E I corpi</span></p><hr id=\"null\"><span style=\"font-size: 16px;\"><strong>B:&nbsp;</strong> stanno fuori dalle case, senza casa, senza neanche la tomba che li ricuopre. Le indagini del Giornalista Enrico Lucci e le testimonianze dei superstiti. The BBC's Gavin Lee reports from Norcia, the central Italian town hardest hit by the quake. Italian Prime Minister Matteo Renzi has visited one of...</span>"
      ],
      "text/plain": [
       "<IPython.core.display.HTML object>"
      ]
     },
     "metadata": {},
     "output_type": "display_data"
    },
    {
     "data": {
      "text/plain": [
       "'Second'"
      ]
     },
     "metadata": {},
     "output_type": "display_data"
    },
    {
     "data": {
      "text/html": [
       "True"
      ],
      "text/plain": [
       "<IPython.core.display.HTML object>"
      ]
     },
     "metadata": {},
     "output_type": "display_data"
    },
    {
     "data": {
      "text/html": [
       "<p style=\"text-align: justify;\"><span style=\"font-size: 14px;\">Il testo B segue il testo A. Pensi che B sia stato scritto da una persona o da una macchina?<br><br><strong>A:</strong>&nbsp;In centro Italia continuano le scosse e il numero dei morti sale. Paesi afoni e distrutti, palazzi accartocciati, mozziconi di chiese, rovine sinistre che fissano le piazze. E I corpi</span></p><hr id=\"null\"><span style=\"font-size: 16px;\"><strong>B:&nbsp;</strong> là sotto a dimenarsi o a restare immobili. E I superstiti, qui sopra, che hanno perso tutti e tutto. C'è un pezzo del nostro Paese che è diventato un fantasma. E ci sono I soccorsi, le polemiche, la solita politica fatta di parole. C'è un pezzo dello Stivale che...</span>"
      ],
      "text/plain": [
       "<IPython.core.display.HTML object>"
      ]
     },
     "metadata": {},
     "output_type": "display_data"
    },
    {
     "data": {
      "text/plain": [
       "'6'"
      ]
     },
     "metadata": {},
     "output_type": "display_data"
    },
    {
     "data": {
      "text/plain": [
       "'First'"
      ]
     },
     "metadata": {},
     "output_type": "display_data"
    },
    {
     "data": {
      "text/html": [
       "False"
      ],
      "text/plain": [
       "<IPython.core.display.HTML object>"
      ]
     },
     "metadata": {},
     "output_type": "display_data"
    },
    {
     "data": {
      "text/html": [
       "<p style=\"text-align: justify;\"><span style=\"font-size: 14px;\">Il testo B segue il testo A. Pensi che B sia stato scritto da una persona o da una macchina?<br><br><strong>A:</strong>&nbsp;Nel giro di poco, Facebook potrebbe potenzialmente raggiungere 400 milioni di iscritti al miliardo e 800 milioni attuali. Si tratta della popolazione della Cina , mercato che Mark Zuckenberg punta da tempo.</span></p><hr id=\"null\"><span style=\"font-size: 16px;\"><strong>B:&nbsp;</strong> E' quello che ha dichiarato il fondatore di Facebook in un'intervista a Bloomberg. \"Siamo pronti a fare tutto quello che è necessario per entrare in Cina\" ha detto Zuckerberg. \"Siamo pronti a fare tutto quello che è necessario per entrare in Cina\". \"Siamo pronti a fare tutto quello che...</span>"
      ],
      "text/plain": [
       "<IPython.core.display.HTML object>"
      ]
     },
     "metadata": {},
     "output_type": "display_data"
    },
    {
     "data": {
      "text/plain": [
       "'Second'"
      ]
     },
     "metadata": {},
     "output_type": "display_data"
    },
    {
     "data": {
      "text/html": [
       "False"
      ],
      "text/plain": [
       "<IPython.core.display.HTML object>"
      ]
     },
     "metadata": {},
     "output_type": "display_data"
    },
    {
     "data": {
      "text/html": [
       "<p style=\"text-align: justify;\"><span style=\"font-size: 14px;\">Il testo B segue il testo A. Pensi che B sia stato scritto da una persona o da una macchina?<br><br><strong>A:</strong>&nbsp;Nel giro di poco, Facebook potrebbe potenzialmente raggiungere 400 milioni di iscritti al miliardo e 800 milioni attuali. Si tratta della popolazione della Cina , mercato che Mark Zuckenberg punta da tempo.</span></p><hr id=\"null\"><span style=\"font-size: 16px;\"><strong>B:&nbsp;</strong> E' quello che ha dichiarato il fondatore di Facebook in un'intervista a Bloomberg. \"Siamo pronti a fare tutto quello che è necessario per entrare in Cina\" ha detto Zuckerberg. \"Siamo pronti a fare tutto quello che è necessario per entrare in Cina\". \"Siamo pronti a fare tutto quello che...</span>"
      ],
      "text/plain": [
       "<IPython.core.display.HTML object>"
      ]
     },
     "metadata": {},
     "output_type": "display_data"
    },
    {
     "data": {
      "text/plain": [
       "'7'"
      ]
     },
     "metadata": {},
     "output_type": "display_data"
    },
    {
     "data": {
      "text/plain": [
       "'First'"
      ]
     },
     "metadata": {},
     "output_type": "display_data"
    },
    {
     "data": {
      "text/html": [
       "True"
      ],
      "text/plain": [
       "<IPython.core.display.HTML object>"
      ]
     },
     "metadata": {},
     "output_type": "display_data"
    },
    {
     "data": {
      "text/html": [
       "<p style=\"text-align: justify;\"><span style=\"font-size: 14px;\">Il testo B segue il testo A. Pensi che B sia stato scritto da una persona o da una macchina?<br><br><strong>A:</strong>&nbsp;Due sbarchi in sole ventiquattr'ore a Lampedusa. Sono 84 gli immigrati giunti nell'isola tra venerdì e sabato e ospitati all'Hotspot di contrada Imbriacola. Tra loro ci sono anche I tre</span></p><hr id=\"null\"><span style=\"font-size: 16px;\"><strong>B:&nbsp;</strong> unici superstiti dell'ultimo naufragio avvenuto a 50 chilometri a nord est dalla Libia, costato la vita a 117 persone, che erano partite giovedì a bordo di un gommone sgonfiatosi a circa undici ore di navigazione. I passeggeri sono morti annegati, mentre I tre naufraghi sono riusciti a trovare un...</span>"
      ],
      "text/plain": [
       "<IPython.core.display.HTML object>"
      ]
     },
     "metadata": {},
     "output_type": "display_data"
    },
    {
     "data": {
      "text/plain": [
       "'Second'"
      ]
     },
     "metadata": {},
     "output_type": "display_data"
    },
    {
     "data": {
      "text/html": [
       "False"
      ],
      "text/plain": [
       "<IPython.core.display.HTML object>"
      ]
     },
     "metadata": {},
     "output_type": "display_data"
    },
    {
     "data": {
      "text/html": [
       "<p style=\"text-align: justify;\"><span style=\"font-size: 14px;\">Il testo B segue il testo A. Pensi che B sia stato scritto da una persona o da una macchina?<br><br><strong>A:</strong>&nbsp;Due sbarchi in sole ventiquattr'ore a Lampedusa. Sono 84 gli immigrati giunti nell'isola tra venerdì e sabato e ospitati all'Hotspot di contrada Imbriacola. Tra loro ci sono anche I tre</span></p><hr id=\"null\"><span style=\"font-size: 16px;\"><strong>B:&nbsp;</strong> naufraghi di Tortuga, recuperati da un mercantile libanese. Non è ancora stata resa nota l'identità nazionale dei naufraghi, ma non mancano inchieste di persone che si sono rivolte ai carabinieri per cercare I loro cari. Lampedusa, 38 migrants - mostly from Tunisia - arrived safely on the island in...</span>"
      ],
      "text/plain": [
       "<IPython.core.display.HTML object>"
      ]
     },
     "metadata": {},
     "output_type": "display_data"
    },
    {
     "data": {
      "text/plain": [
       "'8'"
      ]
     },
     "metadata": {},
     "output_type": "display_data"
    },
    {
     "data": {
      "text/plain": [
       "'First'"
      ]
     },
     "metadata": {},
     "output_type": "display_data"
    },
    {
     "data": {
      "text/html": [
       "True"
      ],
      "text/plain": [
       "<IPython.core.display.HTML object>"
      ]
     },
     "metadata": {},
     "output_type": "display_data"
    },
    {
     "data": {
      "text/html": [
       "<p style=\"text-align: justify;\"><span style=\"font-size: 14px;\">Il testo B segue il testo A. Pensi che B sia stato scritto da una persona o da una macchina?<br><br><strong>A:</strong>&nbsp;Un altro afroamericano è stato ucciso dalla polizia americana. L'ultimo episodio risale appena a una settimana fa: un uomo di colore freddato dagli agenti di Charlotte, in North Carolina. Questa</span></p><hr id=\"null\"><span style=\"font-size: 16px;\"><strong>B:&nbsp;</strong> volta è successo a El Cajon, un sobborgo di San Diego, in California, dove gli agenti si sono giustificati dicendo che l'uomo, di fronte all'ordine di fermarsi, avrebbe \"estratto un oggetto dalle tasca, tenendolo poi con entrambi le mani\". Credendo che si trattasse di una pistola, I poliziotti hanno...</span>"
      ],
      "text/plain": [
       "<IPython.core.display.HTML object>"
      ]
     },
     "metadata": {},
     "output_type": "display_data"
    },
    {
     "data": {
      "text/plain": [
       "'Second'"
      ]
     },
     "metadata": {},
     "output_type": "display_data"
    },
    {
     "data": {
      "text/html": [
       "False"
      ],
      "text/plain": [
       "<IPython.core.display.HTML object>"
      ]
     },
     "metadata": {},
     "output_type": "display_data"
    },
    {
     "data": {
      "text/html": [
       "<p style=\"text-align: justify;\"><span style=\"font-size: 14px;\">Il testo B segue il testo A. Pensi che B sia stato scritto da una persona o da una macchina?<br><br><strong>A:</strong>&nbsp;Un altro afroamericano è stato ucciso dalla polizia americana. L'ultimo episodio risale appena a una settimana fa: un uomo di colore freddato dagli agenti di Charlotte, in North Carolina. Questa</span></p><hr id=\"null\"><span style=\"font-size: 16px;\"><strong>B:&nbsp;</strong> volta il diniego, la negazione di ogni responsabilità, è dovuta all'invisibilità dei videocamere della squadra che, come se non bastasse, li incontra appena dopo il momento dell'esplosione. Diversi giorni dopo l'uccisione, l'assassinio, di Keith Lamont Scott, un'altra protesta s'è scatenata a Charlotte e ha provocato, con un bilancio di...</span>"
      ],
      "text/plain": [
       "<IPython.core.display.HTML object>"
      ]
     },
     "metadata": {},
     "output_type": "display_data"
    },
    {
     "data": {
      "text/plain": [
       "'9'"
      ]
     },
     "metadata": {},
     "output_type": "display_data"
    },
    {
     "data": {
      "text/plain": [
       "'First'"
      ]
     },
     "metadata": {},
     "output_type": "display_data"
    },
    {
     "data": {
      "text/html": [
       "True"
      ],
      "text/plain": [
       "<IPython.core.display.HTML object>"
      ]
     },
     "metadata": {},
     "output_type": "display_data"
    },
    {
     "data": {
      "text/html": [
       "<p style=\"text-align: justify;\"><span style=\"font-size: 14px;\">Il testo B segue il testo A. Pensi che B sia stato scritto da una persona o da una macchina?<br><br><strong>A:</strong>&nbsp;I numeri fanno spavento. Cinquemila disperati sbarcati solo nelle ultime quarantott'ore, quasi 65mila nei primi sei mesi dell'anno. Che l' operazione \"Mare Nostrum\", varata dopo la strage di Lampedusa, fosse</span></p><hr id=\"null\"><span style=\"font-size: 16px;\"><strong>B:&nbsp;</strong> un fallimento è ormai sotto gli occhi di tutti da troppo tempo. Eppure l'Unione europea ha dovuto aspettare I cadaveri dei trenta immigrati, morti per asfissia nella stiva di un vecchio peschereccio, per tornare a considerare l' immigrazione un'emergenza. Peccato che le soluzioni partorite da Bruxelles nelle ultime ore...</span>"
      ],
      "text/plain": [
       "<IPython.core.display.HTML object>"
      ]
     },
     "metadata": {},
     "output_type": "display_data"
    },
    {
     "data": {
      "text/plain": [
       "'Second'"
      ]
     },
     "metadata": {},
     "output_type": "display_data"
    },
    {
     "data": {
      "text/html": [
       "False"
      ],
      "text/plain": [
       "<IPython.core.display.HTML object>"
      ]
     },
     "metadata": {},
     "output_type": "display_data"
    },
    {
     "data": {
      "text/html": [
       "<p style=\"text-align: justify;\"><span style=\"font-size: 14px;\">Il testo B segue il testo A. Pensi che B sia stato scritto da una persona o da una macchina?<br><br><strong>A:</strong>&nbsp;I numeri fanno spavento. Cinquemila disperati sbarcati solo nelle ultime quarantott'ore, quasi 65mila nei primi sei mesi dell'anno. Che l' operazione \"Mare Nostrum\", varata dopo la strage di Lampedusa, fosse</span></p><hr id=\"null\"><span style=\"font-size: 16px;\"><strong>B:&nbsp;</strong> riuscita a fermare il flusso di barche di migranti, lo abbiamo rilevato già da pochi mesi. Che la spinta verso l'Italia del prossimo potesse crescere di conseguenza, lo sapevamo. Che si dovesse progettare una strategia efficace e responsabile, in grado di dire dove e come, giustamente, stava l' opportunità...</span>"
      ],
      "text/plain": [
       "<IPython.core.display.HTML object>"
      ]
     },
     "metadata": {},
     "output_type": "display_data"
    },
    {
     "data": {
      "text/plain": [
       "'10'"
      ]
     },
     "metadata": {},
     "output_type": "display_data"
    },
    {
     "data": {
      "text/plain": [
       "'First'"
      ]
     },
     "metadata": {},
     "output_type": "display_data"
    },
    {
     "data": {
      "text/html": [
       "True"
      ],
      "text/plain": [
       "<IPython.core.display.HTML object>"
      ]
     },
     "metadata": {},
     "output_type": "display_data"
    },
    {
     "data": {
      "text/html": [
       "<p style=\"text-align: justify;\"><span style=\"font-size: 14px;\">Il testo B segue il testo A. Pensi che B sia stato scritto da una persona o da una macchina?<br><br><strong>A:</strong>&nbsp;Via libera al \"Piano Salva- Parma \": l’Assemblea della Lega calcio ha messo a disposizione 5 milioni di prestito (dal fondo multe) che consentiranno al club di terminare la stagione</span></p><hr id=\"null\"><span style=\"font-size: 16px;\"><strong>B:&nbsp;</strong> e garantire la regolarità del campionato a 20 squadre. Nel corso dell' udienza fallimentare sarà identificato un curatore. Subito dopo, il 19 marzo, arriverà il denaro. Nel frattempo la società ha intenzione di affrontare I problemi di risanamento dei conti perché, come ha ribadito oggi il presidente Manenti \"solo...</span>"
      ],
      "text/plain": [
       "<IPython.core.display.HTML object>"
      ]
     },
     "metadata": {},
     "output_type": "display_data"
    },
    {
     "data": {
      "text/plain": [
       "'Second'"
      ]
     },
     "metadata": {},
     "output_type": "display_data"
    },
    {
     "data": {
      "text/html": [
       "False"
      ],
      "text/plain": [
       "<IPython.core.display.HTML object>"
      ]
     },
     "metadata": {},
     "output_type": "display_data"
    },
    {
     "data": {
      "text/html": [
       "<p style=\"text-align: justify;\"><span style=\"font-size: 14px;\">Il testo B segue il testo A. Pensi che B sia stato scritto da una persona o da una macchina?<br><br><strong>A:</strong>&nbsp;Via libera al \"Piano Salva- Parma \": l’Assemblea della Lega calcio ha messo a disposizione 5 milioni di prestito (dal fondo multe) che consentiranno al club di terminare la stagione</span></p><hr id=\"null\"><span style=\"font-size: 16px;\"><strong>B:&nbsp;</strong> e di pagare I debiti più urgenti. I risultati conseguiti fino ad ora sono stati ottenuti dalla squadra grazie all’ottima qualità della squadra e ad una gestione corretta del nostro settore giovanile da parte del presidente Alberto Volpi. Oltre al prestito, la Lega calcio ha anche concesso la possibilità...</span>"
      ],
      "text/plain": [
       "<IPython.core.display.HTML object>"
      ]
     },
     "metadata": {},
     "output_type": "display_data"
    },
    {
     "data": {
      "text/plain": [
       "'11'"
      ]
     },
     "metadata": {},
     "output_type": "display_data"
    },
    {
     "data": {
      "text/plain": [
       "'First'"
      ]
     },
     "metadata": {},
     "output_type": "display_data"
    },
    {
     "data": {
      "text/html": [
       "True"
      ],
      "text/plain": [
       "<IPython.core.display.HTML object>"
      ]
     },
     "metadata": {},
     "output_type": "display_data"
    },
    {
     "data": {
      "text/html": [
       "<p style=\"text-align: justify;\"><span style=\"font-size: 14px;\">Il testo B segue il testo A. Pensi che B sia stato scritto da una persona o da una macchina?<br><br><strong>A:</strong>&nbsp;Bernice King, figlia di Martin Luther King, diventa una nuova testimonial del Partito democratico. La figlia dell'uomo simbolo della lotta al razzismo negli Stati Uniti d'America è intervenuta alla giornata</span></p><hr id=\"null\"><span style=\"font-size: 16px;\"><strong>B:&nbsp;</strong> finale di Piazza Grande, la manifestazione organizzata dal presidente della Regione Lazio, Nicola Zingaretti, all'ex Dogana. La manifestazione dovrebbe essere anche l'apertura della campagna di Zingaretti per la guida del centrosinistra italiano. \" È un onore grande per me e un privilegio essere qui stamane nel nome della pace,...</span>"
      ],
      "text/plain": [
       "<IPython.core.display.HTML object>"
      ]
     },
     "metadata": {},
     "output_type": "display_data"
    },
    {
     "data": {
      "text/plain": [
       "'Second'"
      ]
     },
     "metadata": {},
     "output_type": "display_data"
    },
    {
     "data": {
      "text/html": [
       "False"
      ],
      "text/plain": [
       "<IPython.core.display.HTML object>"
      ]
     },
     "metadata": {},
     "output_type": "display_data"
    },
    {
     "data": {
      "text/html": [
       "<p style=\"text-align: justify;\"><span style=\"font-size: 14px;\">Il testo B segue il testo A. Pensi che B sia stato scritto da una persona o da una macchina?<br><br><strong>A:</strong>&nbsp;Bernice King, figlia di Martin Luther King, diventa una nuova testimonial del Partito democratico. La figlia dell'uomo simbolo della lotta al razzismo negli Stati Uniti d'America è intervenuta alla giornata</span></p><hr id=\"null\"><span style=\"font-size: 16px;\"><strong>B:&nbsp;</strong> delle donne organizzata dal Partito Democratico il 16 dicembre a Washington. \"Questo spirito non l'abbiamo perso, non è svanito\", ha detto la King, che ha ricordato come il presidente Donald Trump, nelle sue elezioni, si sia dichiarato un \"amico degli afroamericani\". \"Il presidente Trump dice di essere l'amico degli...</span>"
      ],
      "text/plain": [
       "<IPython.core.display.HTML object>"
      ]
     },
     "metadata": {},
     "output_type": "display_data"
    },
    {
     "data": {
      "text/plain": [
       "'12'"
      ]
     },
     "metadata": {},
     "output_type": "display_data"
    },
    {
     "data": {
      "text/plain": [
       "'First'"
      ]
     },
     "metadata": {},
     "output_type": "display_data"
    },
    {
     "data": {
      "text/html": [
       "False"
      ],
      "text/plain": [
       "<IPython.core.display.HTML object>"
      ]
     },
     "metadata": {},
     "output_type": "display_data"
    },
    {
     "data": {
      "text/html": [
       "<p style=\"text-align: justify;\"><span style=\"font-size: 14px;\">Il testo B segue il testo A. Pensi che B sia stato scritto da una persona o da una macchina?<br><br><strong>A:</strong>&nbsp;Ha parlato questo pomeriggio il premier spagnolo Mariano Rajoy, rispondendo a Carles Puigdemont, l'ex presidente della Generalitat catalana la cui coalizione ha conquistato ieri il voto regionale e che non</span></p><hr id=\"null\"><span style=\"font-size: 16px;\"><strong>B:&nbsp;</strong> vuole rinunciare alla secessione. In the 6-week period prior to 12/06/19, the institutional ownership stake in the company's stock increased from 39.4% to 41.8%. Historical volatility refers to the price fluctuations exhibited by the underlying asset (such as stock) over time. The loss of Uber's appeal could have hampered...</span>"
      ],
      "text/plain": [
       "<IPython.core.display.HTML object>"
      ]
     },
     "metadata": {},
     "output_type": "display_data"
    },
    {
     "data": {
      "text/plain": [
       "'Second'"
      ]
     },
     "metadata": {},
     "output_type": "display_data"
    },
    {
     "data": {
      "text/html": [
       "True"
      ],
      "text/plain": [
       "<IPython.core.display.HTML object>"
      ]
     },
     "metadata": {},
     "output_type": "display_data"
    },
    {
     "data": {
      "text/html": [
       "<p style=\"text-align: justify;\"><span style=\"font-size: 14px;\">Il testo B segue il testo A. Pensi che B sia stato scritto da una persona o da una macchina?<br><br><strong>A:</strong>&nbsp;Ha parlato questo pomeriggio il premier spagnolo Mariano Rajoy, rispondendo a Carles Puigdemont, l'ex presidente della Generalitat catalana la cui coalizione ha conquistato ieri il voto regionale e che non</span></p><hr id=\"null\"><span style=\"font-size: 16px;\"><strong>B:&nbsp;</strong> aveva perso tempo per dire la sua. Da Bruxelles, dove si trova dal giorno in cui ha lasciato il Paese all'indomani del referendum sull'indipendenza, Puigdemont è tornato oggi a parlare di un fallimento dell'establishment di Madrid, come già aveva fatto ieri, commentando il 4% ottenuto dal Partito popolare di...</span>"
      ],
      "text/plain": [
       "<IPython.core.display.HTML object>"
      ]
     },
     "metadata": {},
     "output_type": "display_data"
    },
    {
     "data": {
      "text/plain": [
       "'13'"
      ]
     },
     "metadata": {},
     "output_type": "display_data"
    },
    {
     "data": {
      "text/plain": [
       "'First'"
      ]
     },
     "metadata": {},
     "output_type": "display_data"
    },
    {
     "data": {
      "text/html": [
       "True"
      ],
      "text/plain": [
       "<IPython.core.display.HTML object>"
      ]
     },
     "metadata": {},
     "output_type": "display_data"
    },
    {
     "data": {
      "text/html": [
       "<p style=\"text-align: justify;\"><span style=\"font-size: 14px;\">Il testo B segue il testo A. Pensi che B sia stato scritto da una persona o da una macchina?<br><br><strong>A:</strong>&nbsp;Il caso è meno grave del precedente, in cui un bambino era morto a Torino a causa di una circoncisione casalinga finita male. Un neonato ghanese era morto in ospedale</span></p><hr id=\"null\"><span style=\"font-size: 16px;\"><strong>B:&nbsp;</strong> pochi giorni fa, trasportato in arrestato cardiaco pochi giorni dopo l'operazione. Questa volta, ancora a Torino, un bambino marocchino di tre anni è finito al Martini per un'infezione, per una circoncisione praticata in casa. È stato dimesso in breve tempo, scrive Repubblica sul suo dorso locale. Ciononostante Nino Boeti,...</span>"
      ],
      "text/plain": [
       "<IPython.core.display.HTML object>"
      ]
     },
     "metadata": {},
     "output_type": "display_data"
    },
    {
     "data": {
      "text/plain": [
       "'Second'"
      ]
     },
     "metadata": {},
     "output_type": "display_data"
    },
    {
     "data": {
      "text/html": [
       "False"
      ],
      "text/plain": [
       "<IPython.core.display.HTML object>"
      ]
     },
     "metadata": {},
     "output_type": "display_data"
    },
    {
     "data": {
      "text/html": [
       "<p style=\"text-align: justify;\"><span style=\"font-size: 14px;\">Il testo B segue il testo A. Pensi che B sia stato scritto da una persona o da una macchina?<br><br><strong>A:</strong>&nbsp;Il caso è meno grave del precedente, in cui un bambino era morto a Torino a causa di una circoncisione casalinga finita male. Un neonato ghanese era morto in ospedale</span></p><hr id=\"null\"><span style=\"font-size: 16px;\"><strong>B:&nbsp;</strong> dopo che il genitore gli aveva fatto il solito tajb di casa. Un'infermiera era stata condannata a due anni e un altro infermiere a un anno e quattro mesi per omicidio colposo. La corte di appello aveva poi ridotto la pena a un anno e dieci mesi per l'infermiera...</span>"
      ],
      "text/plain": [
       "<IPython.core.display.HTML object>"
      ]
     },
     "metadata": {},
     "output_type": "display_data"
    },
    {
     "data": {
      "text/plain": [
       "'14'"
      ]
     },
     "metadata": {},
     "output_type": "display_data"
    },
    {
     "data": {
      "text/plain": [
       "'First'"
      ]
     },
     "metadata": {},
     "output_type": "display_data"
    },
    {
     "data": {
      "text/html": [
       "False"
      ],
      "text/plain": [
       "<IPython.core.display.HTML object>"
      ]
     },
     "metadata": {},
     "output_type": "display_data"
    },
    {
     "data": {
      "text/html": [
       "<p style=\"text-align: justify;\"><span style=\"font-size: 14px;\">Il testo B segue il testo A. Pensi che B sia stato scritto da una persona o da una macchina?<br><br><strong>A:</strong>&nbsp;Un uomo di 65 anni è morto al Policlinico di Messina per meningite dopo essere stato ricoverato lo scorso 6 gennaio nel reparto di malattie infettive. L'uomo era giunto al</span></p><hr id=\"null\"><span style=\"font-size: 16px;\"><strong>B:&nbsp;</strong> pronto soccorso con febbre alta, sintomi sospetti della malattia e quindi ricoverato. Il caso, secondo quanto informato dall'ASL, è il primo in Italia. Si trattava di un paziente con storia di malattia cronica. Quando è stato ricoverato il quadro clinico era significativo per l'insorgenza di una meningite, che ha...</span>"
      ],
      "text/plain": [
       "<IPython.core.display.HTML object>"
      ]
     },
     "metadata": {},
     "output_type": "display_data"
    },
    {
     "data": {
      "text/plain": [
       "'Second'"
      ]
     },
     "metadata": {},
     "output_type": "display_data"
    },
    {
     "data": {
      "text/html": [
       "True"
      ],
      "text/plain": [
       "<IPython.core.display.HTML object>"
      ]
     },
     "metadata": {},
     "output_type": "display_data"
    },
    {
     "data": {
      "text/html": [
       "<p style=\"text-align: justify;\"><span style=\"font-size: 14px;\">Il testo B segue il testo A. Pensi che B sia stato scritto da una persona o da una macchina?<br><br><strong>A:</strong>&nbsp;Un uomo di 65 anni è morto al Policlinico di Messina per meningite dopo essere stato ricoverato lo scorso 6 gennaio nel reparto di malattie infettive. L'uomo era giunto al</span></p><hr id=\"null\"><span style=\"font-size: 16px;\"><strong>B:&nbsp;</strong> pronto soccorso in condizioni gravi ed essendo cardiopatico e con un edema polmonare il quadro clinico era piuttosto preoccupante. Negli ultimi giorni aveva avuto febbre molto alta e su questo caso era intervenuto Giuseppe Laganga, commissario straordinario dell'azienda ospedaliera universitaria Policlinico \"G. Martino\" precisando che non c'è alcun allarme...</span>"
      ],
      "text/plain": [
       "<IPython.core.display.HTML object>"
      ]
     },
     "metadata": {},
     "output_type": "display_data"
    },
    {
     "data": {
      "text/plain": [
       "'15'"
      ]
     },
     "metadata": {},
     "output_type": "display_data"
    },
    {
     "data": {
      "text/plain": [
       "'First'"
      ]
     },
     "metadata": {},
     "output_type": "display_data"
    },
    {
     "data": {
      "text/html": [
       "False"
      ],
      "text/plain": [
       "<IPython.core.display.HTML object>"
      ]
     },
     "metadata": {},
     "output_type": "display_data"
    },
    {
     "data": {
      "text/html": [
       "<p style=\"text-align: justify;\"><span style=\"font-size: 14px;\">Il testo B segue il testo A. Pensi che B sia stato scritto da una persona o da una macchina?<br><br><strong>A:</strong>&nbsp;Davide Zamberlan Londra Dopo avere rinviato lunedì il voto dei Comuni sull'accordo per la Brexit, Theresa May ha ieri cominciato un mini tour de force tra le principali capitali europee:</span></p><hr id=\"null\"><span style=\"font-size: 16px;\"><strong>B:&nbsp;</strong> dopo essere stata a L'Aia, oggi è a Bruxelles per incontrare il presidente della Commissione europea Jean-Claude Juncker e il presidente del Consiglio europeo Donald Tusk, il cui ruolo è rappresentare gli interessi degli stati membri. Davide Zamberlan Londra La diplomazia e la burocrazia europee vanno impazzite dopo I...</span>"
      ],
      "text/plain": [
       "<IPython.core.display.HTML object>"
      ]
     },
     "metadata": {},
     "output_type": "display_data"
    },
    {
     "data": {
      "text/plain": [
       "'Second'"
      ]
     },
     "metadata": {},
     "output_type": "display_data"
    },
    {
     "data": {
      "text/html": [
       "True"
      ],
      "text/plain": [
       "<IPython.core.display.HTML object>"
      ]
     },
     "metadata": {},
     "output_type": "display_data"
    },
    {
     "data": {
      "text/html": [
       "<p style=\"text-align: justify;\"><span style=\"font-size: 14px;\">Il testo B segue il testo A. Pensi che B sia stato scritto da una persona o da una macchina?<br><br><strong>A:</strong>&nbsp;Davide Zamberlan Londra Dopo avere rinviato lunedì il voto dei Comuni sull'accordo per la Brexit, Theresa May ha ieri cominciato un mini tour de force tra le principali capitali europee:</span></p><hr id=\"null\"><span style=\"font-size: 16px;\"><strong>B:&nbsp;</strong> la mattina in Olanda a colloquio con il primo ministro Mark Rutte; a pranzo con Angela Merkel a Berlino, dove ha anche incontrato la nuova leader della Cdu, Annegret Kramp-Karrenbauer. Il pomeriggio a Bruxelles, a confronto con il presidente della Commisione Europea Jean-Claude Juncker e il presidente del Consiglio...</span>"
      ],
      "text/plain": [
       "<IPython.core.display.HTML object>"
      ]
     },
     "metadata": {},
     "output_type": "display_data"
    },
    {
     "data": {
      "text/plain": [
       "'16'"
      ]
     },
     "metadata": {},
     "output_type": "display_data"
    },
    {
     "data": {
      "text/plain": [
       "'First'"
      ]
     },
     "metadata": {},
     "output_type": "display_data"
    },
    {
     "data": {
      "text/html": [
       "False"
      ],
      "text/plain": [
       "<IPython.core.display.HTML object>"
      ]
     },
     "metadata": {},
     "output_type": "display_data"
    },
    {
     "data": {
      "text/html": [
       "<p style=\"text-align: justify;\"><span style=\"font-size: 14px;\">Il testo B segue il testo A. Pensi che B sia stato scritto da una persona o da una macchina?<br><br><strong>A:</strong>&nbsp;Alla fine è arrivato l'ok: Brett Kavanaugh è un nuovo giudice della Corte Suprema. La votazione, come ci si aspettava, si è svolta in un clima d'incertezza. Lo spoglio ha</span></p><hr id=\"null\"><span style=\"font-size: 16px;\"><strong>B:&nbsp;</strong> dato una maggioranza ridotta per il giudice Kavanaugh Alla fine è arrivato l'ok: Brett Kavanaugh è un nuovo giudice della Corte Suprema. La votazione, come ci si aspettava, si è svolta in un clima d'incertezza. Lo spoglio ha dato una maggioranza ridotta per il giudice Kavanaugh. Il voto finale...</span>"
      ],
      "text/plain": [
       "<IPython.core.display.HTML object>"
      ]
     },
     "metadata": {},
     "output_type": "display_data"
    },
    {
     "data": {
      "text/plain": [
       "'Second'"
      ]
     },
     "metadata": {},
     "output_type": "display_data"
    },
    {
     "data": {
      "text/html": [
       "True"
      ],
      "text/plain": [
       "<IPython.core.display.HTML object>"
      ]
     },
     "metadata": {},
     "output_type": "display_data"
    },
    {
     "data": {
      "text/html": [
       "<p style=\"text-align: justify;\"><span style=\"font-size: 14px;\">Il testo B segue il testo A. Pensi che B sia stato scritto da una persona o da una macchina?<br><br><strong>A:</strong>&nbsp;Alla fine è arrivato l'ok: Brett Kavanaugh è un nuovo giudice della Corte Suprema. La votazione, come ci si aspettava, si è svolta in un clima d'incertezza. Lo spoglio ha</span></p><hr id=\"null\"><span style=\"font-size: 16px;\"><strong>B:&nbsp;</strong> fatto registrare 50 pareri favorevoli contro 48 contrari. Il Senato degli Stati Uniti ha così ratificato la scelta operata dal presidente Donald Trump. Due senatori repubblicani erano dati ancora come dubbiosi sul votare o meno in linea con quanto deciso dell'inquilino della Casa Bianca. L'uomo indicato dal Tycoon per...</span>"
      ],
      "text/plain": [
       "<IPython.core.display.HTML object>"
      ]
     },
     "metadata": {},
     "output_type": "display_data"
    },
    {
     "data": {
      "text/plain": [
       "'17'"
      ]
     },
     "metadata": {},
     "output_type": "display_data"
    },
    {
     "data": {
      "text/plain": [
       "'First'"
      ]
     },
     "metadata": {},
     "output_type": "display_data"
    },
    {
     "data": {
      "text/html": [
       "False"
      ],
      "text/plain": [
       "<IPython.core.display.HTML object>"
      ]
     },
     "metadata": {},
     "output_type": "display_data"
    },
    {
     "data": {
      "text/html": [
       "<p style=\"text-align: justify;\"><span style=\"font-size: 14px;\">Il testo B segue il testo A. Pensi che B sia stato scritto da una persona o da una macchina?<br><br><strong>A:</strong>&nbsp;Sarà oggi il giorno della svolta per l'Ucraina? Le premesse non sono state incoraggianti. Dopo il vertice di venerdì a Mosca tra Vladimir Putin, Angela Merkel e François Hollande per</span></p><hr id=\"null\"><span style=\"font-size: 16px;\"><strong>B:&nbsp;</strong> trovare una soluzione pacifica, I colloqui tra I rappresentanti di Kiev, di Mosca e della regione separatista orientale del Donbass si sono conclusi senza sviluppi significativi. Quando sono iniziati I colloqui di pace per l'Ucraina su iniziativa di Merkel e di Hollande, la prospettiva che si profilava era quella...</span>"
      ],
      "text/plain": [
       "<IPython.core.display.HTML object>"
      ]
     },
     "metadata": {},
     "output_type": "display_data"
    },
    {
     "data": {
      "text/plain": [
       "'Second'"
      ]
     },
     "metadata": {},
     "output_type": "display_data"
    },
    {
     "data": {
      "text/html": [
       "True"
      ],
      "text/plain": [
       "<IPython.core.display.HTML object>"
      ]
     },
     "metadata": {},
     "output_type": "display_data"
    },
    {
     "data": {
      "text/html": [
       "<p style=\"text-align: justify;\"><span style=\"font-size: 14px;\">Il testo B segue il testo A. Pensi che B sia stato scritto da una persona o da una macchina?<br><br><strong>A:</strong>&nbsp;Sarà oggi il giorno della svolta per l'Ucraina? Le premesse non sono state incoraggianti. Dopo il vertice di venerdì a Mosca tra Vladimir Putin, Angela Merkel e François Hollande per</span></p><hr id=\"null\"><span style=\"font-size: 16px;\"><strong>B:&nbsp;</strong> fermare un conflitto che continua a mietere vittime e ad alzare la tensione tra Russia e Paesi occidentali, c'è poco da stare allegri. Ieri il presidente francese è stato lapidario: «Se la nostra proposta di pace fallirà, l'unico scenario è la guerra». Meno apocalittica la cancelliera tedesca, che alla...</span>"
      ],
      "text/plain": [
       "<IPython.core.display.HTML object>"
      ]
     },
     "metadata": {},
     "output_type": "display_data"
    },
    {
     "data": {
      "text/plain": [
       "'18'"
      ]
     },
     "metadata": {},
     "output_type": "display_data"
    },
    {
     "data": {
      "text/plain": [
       "'First'"
      ]
     },
     "metadata": {},
     "output_type": "display_data"
    },
    {
     "data": {
      "text/html": [
       "True"
      ],
      "text/plain": [
       "<IPython.core.display.HTML object>"
      ]
     },
     "metadata": {},
     "output_type": "display_data"
    },
    {
     "data": {
      "text/html": [
       "<p style=\"text-align: justify;\"><span style=\"font-size: 14px;\">Il testo B segue il testo A. Pensi che B sia stato scritto da una persona o da una macchina?<br><br><strong>A:</strong>&nbsp;Il 20 marzo è sempre più vicino, e cresce l’attesa per l’eclissi solare che interesserà tutta l’ Europa. Ieri abbiamo illustrato tutte le info utili per le varie città italiane,</span></p><hr id=\"null\"><span style=\"font-size: 16px;\"><strong>B:&nbsp;</strong> oggi lo facciamo per l’Europa. Oltre alle isole Fær Øer e alle isole Svalbard, dove l’eclissi sarà totale, anche nel nord del continente la percentuale di oscuramento del sole da parte della luna sarà significativa, fino al 98% in Islanda, al 96% in Norvegia, al 97% in Scozia, al...</span>"
      ],
      "text/plain": [
       "<IPython.core.display.HTML object>"
      ]
     },
     "metadata": {},
     "output_type": "display_data"
    },
    {
     "data": {
      "text/plain": [
       "'Second'"
      ]
     },
     "metadata": {},
     "output_type": "display_data"
    },
    {
     "data": {
      "text/html": [
       "False"
      ],
      "text/plain": [
       "<IPython.core.display.HTML object>"
      ]
     },
     "metadata": {},
     "output_type": "display_data"
    },
    {
     "data": {
      "text/html": [
       "<p style=\"text-align: justify;\"><span style=\"font-size: 14px;\">Il testo B segue il testo A. Pensi che B sia stato scritto da una persona o da una macchina?<br><br><strong>A:</strong>&nbsp;Il 20 marzo è sempre più vicino, e cresce l’attesa per l’eclissi solare che interesserà tutta l’ Europa. Ieri abbiamo illustrato tutte le info utili per le varie città italiane,</span></p><hr id=\"null\"><span style=\"font-size: 16px;\"><strong>B:&nbsp;</strong> oggi invece parliamo delle altre città europee che vedranno passare l’ombra della luna sul sole. L’Europa è suddivisa in due zone: la zona che vedrà l’eclissi come totale, e la zona dove l’eclissi sarà parziale, inoltre il periodo di oscurità sarà di circa 3 minuti. L’eclissi totale sarà visibile...</span>"
      ],
      "text/plain": [
       "<IPython.core.display.HTML object>"
      ]
     },
     "metadata": {},
     "output_type": "display_data"
    },
    {
     "data": {
      "text/plain": [
       "'19'"
      ]
     },
     "metadata": {},
     "output_type": "display_data"
    },
    {
     "data": {
      "text/plain": [
       "'First'"
      ]
     },
     "metadata": {},
     "output_type": "display_data"
    },
    {
     "data": {
      "text/html": [
       "True"
      ],
      "text/plain": [
       "<IPython.core.display.HTML object>"
      ]
     },
     "metadata": {},
     "output_type": "display_data"
    },
    {
     "data": {
      "text/html": [
       "<p style=\"text-align: justify;\"><span style=\"font-size: 14px;\">Il testo B segue il testo A. Pensi che B sia stato scritto da una persona o da una macchina?<br><br><strong>A:</strong>&nbsp;I n Belgio il governo si è spaccato a metà. Gli Stati Uniti sono stati I primi a non volerne sapere e nove Paesi dell'Unione europea, compresa l'Italia, non aderiranno</span></p><hr id=\"null\"><span style=\"font-size: 16px;\"><strong>B:&nbsp;</strong> oggi e domani a Marrakech al «bidone» globale dell'Onu sui migranti. In realtà sarà il Parlamento italiano a decidere la sorte del Global compact «per una migrazione sicura, ordinata e regolare», che prevede di abbattere la differenza fra profughi di guerra e migranti economici ovvero clandestini. Sabato la maggioranza...</span>"
      ],
      "text/plain": [
       "<IPython.core.display.HTML object>"
      ]
     },
     "metadata": {},
     "output_type": "display_data"
    },
    {
     "data": {
      "text/plain": [
       "'Second'"
      ]
     },
     "metadata": {},
     "output_type": "display_data"
    },
    {
     "data": {
      "text/html": [
       "False"
      ],
      "text/plain": [
       "<IPython.core.display.HTML object>"
      ]
     },
     "metadata": {},
     "output_type": "display_data"
    },
    {
     "data": {
      "text/html": [
       "<p style=\"text-align: justify;\"><span style=\"font-size: 14px;\">Il testo B segue il testo A. Pensi che B sia stato scritto da una persona o da una macchina?<br><br><strong>A:</strong>&nbsp;I n Belgio il governo si è spaccato a metà. Gli Stati Uniti sono stati I primi a non volerne sapere e nove Paesi dell'Unione europea, compresa l'Italia, non aderiranno</span></p><hr id=\"null\"><span style=\"font-size: 16px;\"><strong>B:&nbsp;</strong> al meccanismo di protezione delle banche che dovrebbe aiutare il sistema finanziario a fronteggiare meglio le crisi. What is the FDIC? The FDIC is an independent agency created by the Congress to maintain stability and public confidence in the nation's financial system by insuring deposits, examining and supervising financial...</span>"
      ],
      "text/plain": [
       "<IPython.core.display.HTML object>"
      ]
     },
     "metadata": {},
     "output_type": "display_data"
    }
   ],
   "source": [
    "from IPython.core.display import HTML, display\n",
    "for i in range(5):\n",
    "    df1 = pd.read_csv(f\"/home/gpuccetti/Projects/llama/llama/human_eval/data/llama_65b_pretrained_shorter/human_eval_df1_{i}.csv\", index_col=0)\n",
    "    df2 = pd.read_csv(f\"/home/gpuccetti/Projects/llama/llama/human_eval/data/llama_65b_pretrained_shorter/human_eval_df2_{i}.csv\", index_col=0)\n",
    "    # df1 = df1.loc[~df1.is_human, :]\n",
    "    # df2 = df2.loc[~df2.is_human, :]\n",
    "    for idx in range(df1.shape[0]):\n",
    "        i1 = df1.iloc[idx, :].loc[\"Testo domanda\"]\n",
    "        t1 = df1.iloc[idx, :].loc[\"is_human\"]\n",
    "        i2 = df2.iloc[idx, :].loc[\"Testo domanda\"]\n",
    "        t2 = df2.iloc[idx, :].loc[\"is_human\"]\n",
    "        display(f\"{idx}\")\n",
    "        display(\"First\", HTML(str(t1)))\n",
    "        display(HTML(i1))\n",
    "        display(\"Second\", HTML(str(t2)))\n",
    "        display(HTML(i2))\n",
    "    break\n"
   ]
  },
  {
   "attachments": {},
   "cell_type": "markdown",
   "metadata": {},
   "source": [
    "## T tests"
   ]
  },
  {
   "cell_type": "code",
   "execution_count": 12,
   "metadata": {},
   "outputs": [],
   "source": [
    "from scipy.stats import ttest_ind\n",
    "from itertools import combinations\n",
    "\n",
    "real_mask = finetune_metrics_65b_df.bool_is_human\n",
    "gen_mask = ~finetune_metrics_65b_df.bool_is_human\n",
    "\n",
    "real_future_table = {}\n",
    "gen_future_table = {}\n",
    "\n",
    "for (name1, ds1), (name2, ds2) in combinations(zip(\n",
    "    [\"Llama 7b pretrain\", \"Llama 7b finetune\", \"Llama 65b pretrain\", \"Llama 65b finetune\"],\n",
    "    [pretrain_metrics_7b_df, finetune_metrics_7b_df, pretrain_metrics_65b_df, finetune_metrics_65b_df]\n",
    "), 2):\n",
    "\n",
    "\n",
    "    real_future_table[name1] = real_future_table.get(name1, {})\n",
    "    real_tab1 = real_future_table[name1]\n",
    "    real_tab1[name2] = real_tab1.get(name2, {})\n",
    "    real_tab2 = real_tab1[name2]\n",
    "\n",
    "    gen_future_table[name1] = gen_future_table.get(name1, {})\n",
    "    gen_tab1 = gen_future_table[name1]\n",
    "    # gen_tab1[name2] = gen_tab1.get(name2, {})\n",
    "    # gen_tab2 = gen_tab1[name2]\n",
    "\n",
    "\n",
    "    # print(name1, name2)\n",
    "    gen_ds1 = ds1.loc[gen_mask, :].avg_pred\n",
    "    gen_ds2 = ds2.loc[gen_mask, :].avg_pred\n",
    "    gen_mean1 = gen_ds1.mean()\n",
    "    gen_mean2 = gen_ds2.mean()\n",
    "    gen_mean_test = ttest_ind(gen_ds1, gen_ds2)\n",
    "    # print(\"Gen mean\", gen_mean1, gen_mean2)\n",
    "    # print(\"\\t P value\", gen_mean_test.pvalue)\n",
    "    # gen_tab2[\"gen pval\"] = gen_mean_test.pvalue\n",
    "    gen_tab1[name2] = gen_mean_test.pvalue\n",
    "\n",
    "    real_ds1 = ds1.loc[real_mask, :].avg_pred\n",
    "    real_ds2 = ds2.loc[real_mask, :].avg_pred\n",
    "    real_mean1 = real_ds1.mean()\n",
    "    real_mean2 = real_ds2.mean()\n",
    "    real_mean_test = ttest_ind(real_ds1, real_ds2)\n",
    "    # print(\"Real mean\", real_mean1, real_mean2)\n",
    "    # print(\"\\t P value\", real_mean_test.pvalue)\n",
    "    # real_tab2[\"real pval\"] = real_mean_test.pvalue\n",
    "    real_tab1[name2] = real_mean_test.pvalue\n",
    "\n",
    "# ttest_ind(pretrain_metrics_7b_df.loc[gen_mask, :].avg_pred, finetune_metrics_65b_df.loc[gen_mask, :].avg_pred)\n",
    "# ttest_ind(finetune_metrics_7b_df.loc[gen_mask, :].avg_pred, finetune_metrics_65b_df.loc[gen_mask, :].avg_pred)\n",
    "\n",
    "# ttest_ind(pretrain_metrics_7b_df.loc[real_mask, :].avg_pred, finetune_metrics_7b_df.loc[ real_mask, :].avg_pred)\n",
    "# ttest_ind(pretrain_metrics_7b_df.loc[real_mask, :].avg_pred, finetune_metrics_65b_df.loc[real_mask, :].avg_pred)\n",
    "# ttest_ind(finetune_metrics_7b_df.loc[real_mask, :].avg_pred, finetune_metrics_65b_df.loc[real_mask, :].avg_pred)"
   ]
  },
  {
   "cell_type": "code",
   "execution_count": 13,
   "metadata": {},
   "outputs": [
    {
     "name": "stdout",
     "output_type": "stream",
     "text": [
      "\\begin{tabular}{lrrr}\n",
      "\\toprule\n",
      "{} &  Llama 7b finetune &  Llama 65b pretrain &  Llama 65b finetune \\\\\n",
      "\\midrule\n",
      "Llama 7b pretrain  &           0.995618 &            0.412475 &            0.562456 \\\\\n",
      "Llama 7b finetune  &                NaN &            0.425561 &            0.574688 \\\\\n",
      "Llama 65b pretrain &                NaN &                 NaN &            0.807850 \\\\\n",
      "\\bottomrule\n",
      "\\end{tabular}\n",
      "\n"
     ]
    },
    {
     "name": "stderr",
     "output_type": "stream",
     "text": [
      "/tmp/ipykernel_82945/4098852093.py:1: FutureWarning: In future versions `DataFrame.to_latex` is expected to utilise the base implementation of `Styler.to_latex` for formatting and rendering. The arguments signature may therefore change. It is recommended instead to use `DataFrame.style.to_latex` which also contains additional functionality.\n",
      "  print(pd.DataFrame.from_dict(real_future_table).T.to_latex())\n"
     ]
    }
   ],
   "source": [
    "print(pd.DataFrame.from_dict(real_future_table).T.to_latex())"
   ]
  },
  {
   "cell_type": "code",
   "execution_count": 14,
   "metadata": {},
   "outputs": [
    {
     "name": "stdout",
     "output_type": "stream",
     "text": [
      "\\begin{tabular}{lrrr}\n",
      "\\toprule\n",
      "{} &  Llama 7b finetune &  Llama 65b pretrain &  Llama 65b finetune \\\\\n",
      "\\midrule\n",
      "Llama 7b pretrain  &           0.000897 &            0.046171 &            0.001997 \\\\\n",
      "Llama 7b finetune  &                NaN &            0.273690 &            0.954878 \\\\\n",
      "Llama 65b pretrain &                NaN &                 NaN &            0.289662 \\\\\n",
      "\\bottomrule\n",
      "\\end{tabular}\n",
      "\n"
     ]
    },
    {
     "name": "stderr",
     "output_type": "stream",
     "text": [
      "/tmp/ipykernel_82945/487540806.py:1: FutureWarning: In future versions `DataFrame.to_latex` is expected to utilise the base implementation of `Styler.to_latex` for formatting and rendering. The arguments signature may therefore change. It is recommended instead to use `DataFrame.style.to_latex` which also contains additional functionality.\n",
      "  print(pd.DataFrame.from_dict(gen_future_table).T.to_latex())\n"
     ]
    }
   ],
   "source": [
    "print(pd.DataFrame.from_dict(gen_future_table).T.to_latex())"
   ]
  }
 ],
 "metadata": {
  "kernelspec": {
   "display_name": "evalita",
   "language": "python",
   "name": "python3"
  },
  "language_info": {
   "codemirror_mode": {
    "name": "ipython",
    "version": 3
   },
   "file_extension": ".py",
   "mimetype": "text/x-python",
   "name": "python",
   "nbconvert_exporter": "python",
   "pygments_lexer": "ipython3",
   "version": "3.8.16"
  },
  "orig_nbformat": 4
 },
 "nbformat": 4,
 "nbformat_minor": 2
}
