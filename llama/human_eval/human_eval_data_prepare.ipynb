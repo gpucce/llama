{
 "cells": [
  {
   "cell_type": "code",
   "execution_count": 6,
   "id": "b39539be-b346-407a-b144-5494160863c3",
   "metadata": {},
   "outputs": [],
   "source": [
    "import pandas as pd\n",
    "import random\n",
    "from pathlib import Path\n",
    "import regex as re\n",
    "import os\n",
    "\n",
    "_SHUFFLING_ORDER = [17, 13, 7, 14, 8, 12, 18, 0, 2, 6, 5, 4, 11, 1, 19, 16, 15, 10, 3, 9]"
   ]
  },
  {
   "cell_type": "code",
   "execution_count": null,
   "id": "49cf41f4-9909-44bd-be9d-18e6a08e9ba4",
   "metadata": {},
   "outputs": [],
   "source": [
    "def template(txta, txtb):\n",
    "    return f\"\"\"<p style=\"text-align: justify;\"><span style=\"font-size: 14px;\">Il testo B segue il testo A. Pensi che B sia stato generato automaticamente?<br><br><strong>A:</strong>&nbsp;{txta}</span></p><hr id=\"null\"><span style=\"font-size: 16px;\"><strong>B:&nbsp;</strong>{txtb}</span>\"\"\""
   ]
  },
  {
   "cell_type": "code",
   "execution_count": null,
   "id": "40536837-c3a6-4dde-bc97-3f1bc56e9713",
   "metadata": {},
   "outputs": [],
   "source": [
    "control_txta = \"\"\"Nel giro di poco, Facebook potrebbe potenzialmente raggiungere 400 milioni di iscritti al miliardo e 800 milioni attuali. Si tratta della popolazione della Cina , mercato che Mark Zuckenberg punta da tempo.\"\"\"\n",
    "control_txtb = \"\"\"E' quello che ha dichiarato il fondatore di Facebook in un'intervista a Bloomberg. \"Siamo pronti a fare tutto quello che è necessario per entrare in Cina\" ha detto Zuckerberg. \"Siamo pronti a fare tutto quello che è necessario per entrare in Cina\". \"Siamo pronti a fare tutto quello che è necessario per entrare in Cina\". \"Siamo pronti a fare tutto quello che è necessario per entrare in Cina\". \"Siamo pronti a fare...\"\"\"\n",
    "control_q = template(control_txta, control_txtb)"
   ]
  },
  {
   "cell_type": "code",
   "execution_count": null,
   "id": "5e8710a7-dc0a-4aed-b329-fb4e6d31fc00",
   "metadata": {},
   "outputs": [],
   "source": [
    "rephrased_df = pd.read_csv(\"./change-it.ilgiornale.test_1000_rephrased_epoch_00006.csv\", sep=\"\\t\", index_col=0, lineterminator=\"\\n\")"
   ]
  },
  {
   "cell_type": "code",
   "execution_count": null,
   "id": "56fcfcfd-5b73-426e-93d0-f12cc62849dc",
   "metadata": {},
   "outputs": [],
   "source": [
    "n_questionaries = 6\n",
    "q_per_questionary = 20"
   ]
  },
  {
   "cell_type": "code",
   "execution_count": null,
   "id": "d09df1f7-9080-4a58-a580-ac47c8c3afc9",
   "metadata": {},
   "outputs": [],
   "source": [
    "random.seed(42)\n",
    "evaldf = pd.read_csv(\"./questions_import_sample_IT.csv\")\n",
    "dfs1 = []\n",
    "dfs2 = []\n",
    "for i in range(n_questionaries):\n",
    "    df = rephrased_df.iloc[q_per_questionary * i: q_per_questionary * (i + 1), :]\n",
    "    split1 = range(q_per_summary // 2)\n",
    "    split2 = range(q_per_summary // 2, q_per_summary)\n",
    "    future_df1 = evaldf.to_dict()\n",
    "    for key in list(future_df1.keys()):\n",
    "        future_df1[key] = [future_df1[key][0]]\n",
    "    future_df2 = evaldf.to_dict()\n",
    "    for key in list(future_df2.keys()):\n",
    "        future_df2[key] = [future_df2[key][0]]\n",
    "        \n",
    "    future_df1[\"is_human\"] = [\"boh\"]\n",
    "    future_df2[\"is_human\"] = [\"boh\"]\n",
    "    \n",
    "    for i in split1:\n",
    "        for key in list(future_df1):\n",
    "            if key not in [\"Testo domanda\", \"is_human\"]:\n",
    "                future_df1[key].append(future_df1[key][-1])\n",
    "                future_df2[key].append(future_df2[key][-1])\n",
    "                continue\n",
    "            if key == \"Testo domanda\":\n",
    "                future_df1[key].append(\n",
    "                    template(\n",
    "                        df.iloc[i, :].prompts,\n",
    "                        df.iloc[i, :].true_continuations\n",
    "                    )\n",
    "                )\n",
    "                future_df2[key].append(\n",
    "                    template(\n",
    "                        df.iloc[i, :].prompts,\n",
    "                        df.iloc[i, :].generated_continuations\n",
    "                    )\n",
    "                )\n",
    "            elif key == \"is_human\":\n",
    "                future_df1[key].append(True)\n",
    "                future_df2[key].append(False)\n",
    "\n",
    "                \n",
    "    for i in split2:\n",
    "        for key in list(future_df1):\n",
    "            if key not in [\"Testo domanda\", \"is_human\"]:\n",
    "                future_df1[key].append(future_df1[key][-1])\n",
    "                future_df2[key].append(future_df2[key][-1])\n",
    "                continue\n",
    "            if key == \"Testo domanda\":\n",
    "                future_df1[key].append(\n",
    "                    template(\n",
    "                        df.iloc[i, :].prompts,\n",
    "                        df.iloc[i, :].generated_continuations\n",
    "                    )\n",
    "                )\n",
    "                future_df2[key].append(\n",
    "                    template(\n",
    "                        df.iloc[i, :].prompts,\n",
    "                        df.iloc[i, :].true_continuations\n",
    "                    )\n",
    "                )\n",
    "            elif key == \"is_human\":\n",
    "                future_df1[key].append(False)\n",
    "                future_df2[key].append(True)\n",
    "\n",
    "    # drop first\n",
    "    for key in list(future_df1.keys()):\n",
    "        future_df1[key] = future_df1[key][1:]\n",
    "    for key in list(future_df2.keys()):\n",
    "        future_df2[key] = future_df2[key][1:]\n",
    "    \n",
    "    shuffled_df1 = {}\n",
    "    for key, val in future_df1.items():\n",
    "        shuffled_df1[key] = [val[idx] for idx in _SHUFFLING_ORDER]\n",
    "    shuffled_df2 = {}\n",
    "    for key, val in future_df2.items():\n",
    "        shuffled_df2[key] = [val[idx] for idx in _SHUFFLING_ORDER]\n",
    "        \n",
    "    dfs1.append(shuffled_df1)\n",
    "    dfs2.append(shuffled_df2)\n",
    "    # pd.DataFrame.from_dict(future_df1).to_csv(\"human_eval_df1.csv\", encoding=\"utf-8\")\n",
    "    # pd.DataFrame.from_dict(future_df2).to_csv(\"human_eval_df2.csv\", encoding=\"utf-8\")"
   ]
  },
  {
   "cell_type": "code",
   "execution_count": null,
   "id": "63ad6018-cb9d-427d-8b9b-f7b9e0e2254e",
   "metadata": {},
   "outputs": [],
   "source": [
    "# for i in pd.DataFrame.from_dict(future_df1).loc[:, \"Testo domanda\"].apply(lambda x: re.findall(\"\"\"/strong>.*</span>\"\"\", x)[0]):\n",
    "#     print(i)\n",
    "#     print()\n",
    "pd.DataFrame.from_dict(dfs1[2])"
   ]
  }
 ],
 "metadata": {
  "kernelspec": {
   "display_name": "llama",
   "language": "python",
   "name": "llama"
  },
  "language_info": {
   "codemirror_mode": {
    "name": "ipython",
    "version": 3
   },
   "file_extension": ".py",
   "mimetype": "text/x-python",
   "name": "python",
   "nbconvert_exporter": "python",
   "pygments_lexer": "ipython3",
   "version": "3.9.15"
  }
 },
 "nbformat": 4,
 "nbformat_minor": 5
}
